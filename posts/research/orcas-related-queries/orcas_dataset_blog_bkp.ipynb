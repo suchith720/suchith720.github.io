{
 "cells": [
  {
   "cell_type": "markdown",
   "id": "183110ed",
   "metadata": {},
   "source": [
    "---\n",
    "title: \"Co-query Dataset.\"\n",
    "author: \"Suchith Prabhu\"\n",
    "date: \"2023-04-17\"\n",
    "description: This blog post aims to provide information regarding the ORCAS dataset.\n",
    "image: \"images/thumbnail.png\"\n",
    "jupyter: python3\n",
    "sidebar: false\n",
    "draft: true\n",
    "\n",
    "---"
   ]
  },
  {
   "cell_type": "code",
   "execution_count": 1,
   "id": "671113e4",
   "metadata": {},
   "outputs": [],
   "source": [
    "#| echo: false\n",
    "\n",
    "import pandas as pd\n",
    "from tqdm.notebook import tqdm\n",
    "from collections import defaultdict"
   ]
  },
  {
   "cell_type": "markdown",
   "id": "fd6313dc",
   "metadata": {},
   "source": [
    "* Dataset can be downloaded from this [link]().\n",
    "* Code for creating the dataset can be accessed [here](https://github.com/suchith720/ORCASRelatedQueries)."
   ]
  },
  {
   "cell_type": "markdown",
   "id": "77a76672",
   "metadata": {},
   "source": [
    "# ORCAS Dataset"
   ]
  },
  {
   "cell_type": "markdown",
   "id": "40f6de47",
   "metadata": {},
   "source": [
    "The ORCAS dataset is a collection of tuples that relate queries to their corresponding relevant documents using a click-based approach. Further details about the dataset can be accessed [here](https://github.com/microsoft/msmarco/blob/master/ORCAS.md).\n",
    "\n",
    "\n",
    "\n",
    "The format of the dataset is as follows:\n",
    "\n",
    "* `QID : 10103699`\n",
    "* `Q   : why is the sky blue`\n",
    "* `DID : D1968574`\n",
    "* `U   : http://www.sciencemadesimple.com/sky_blue.html`"
   ]
  },
  {
   "cell_type": "code",
   "execution_count": 2,
   "id": "c8fc0db4",
   "metadata": {},
   "outputs": [],
   "source": [
    "#| echo: false\n",
    "\n",
    "data_file = \"../data/orcas.tsv\"\n",
    "df = pd.read_csv(data_file, sep='\\t', header=None)"
   ]
  },
  {
   "cell_type": "markdown",
   "id": "7223d19f",
   "metadata": {},
   "source": [
    "Brief overview of the dataset."
   ]
  },
  {
   "cell_type": "code",
   "execution_count": 3,
   "id": "5a6b7361",
   "metadata": {},
   "outputs": [
    {
     "data": {
      "text/html": [
       "<div>\n",
       "<style scoped>\n",
       "    .dataframe tbody tr th:only-of-type {\n",
       "        vertical-align: middle;\n",
       "    }\n",
       "\n",
       "    .dataframe tbody tr th {\n",
       "        vertical-align: top;\n",
       "    }\n",
       "\n",
       "    .dataframe thead th {\n",
       "        text-align: right;\n",
       "    }\n",
       "</style>\n",
       "<table border=\"1\" class=\"dataframe\">\n",
       "  <thead>\n",
       "    <tr style=\"text-align: right;\">\n",
       "      <th></th>\n",
       "      <th>QID</th>\n",
       "      <th>Query</th>\n",
       "      <th>DID</th>\n",
       "      <th>URL</th>\n",
       "    </tr>\n",
       "  </thead>\n",
       "  <tbody>\n",
       "    <tr>\n",
       "      <th>0</th>\n",
       "      <td>3384935</td>\n",
       "      <td>first bank st. louis</td>\n",
       "      <td>D3528375</td>\n",
       "      <td>https://www.firstbanks.com/</td>\n",
       "    </tr>\n",
       "    <tr>\n",
       "      <th>1</th>\n",
       "      <td>3027731</td>\n",
       "      <td>butler county animal shelter adoption</td>\n",
       "      <td>D851861</td>\n",
       "      <td>http://www.animalfriendshs.org/adopt</td>\n",
       "    </tr>\n",
       "    <tr>\n",
       "      <th>2</th>\n",
       "      <td>12597711</td>\n",
       "      <td>arthritis in hips symptoms</td>\n",
       "      <td>D3345659</td>\n",
       "      <td>https://www.healthline.com/health/osteoarthrit...</td>\n",
       "    </tr>\n",
       "    <tr>\n",
       "      <th>3</th>\n",
       "      <td>5632693</td>\n",
       "      <td>define con</td>\n",
       "      <td>D1081881</td>\n",
       "      <td>http://www.yourdictionary.com/con</td>\n",
       "    </tr>\n",
       "    <tr>\n",
       "      <th>4</th>\n",
       "      <td>2623688</td>\n",
       "      <td>change my vpn</td>\n",
       "      <td>D16921</td>\n",
       "      <td>https://www.privateinternetaccess.com/pages/wh...</td>\n",
       "    </tr>\n",
       "    <tr>\n",
       "      <th>5</th>\n",
       "      <td>11159815</td>\n",
       "      <td>what does the name tatiana mean</td>\n",
       "      <td>D881219</td>\n",
       "      <td>http://www.ourbabynamer.com/meaning-of-Tatiana...</td>\n",
       "    </tr>\n",
       "    <tr>\n",
       "      <th>6</th>\n",
       "      <td>9592441</td>\n",
       "      <td>getting teeth pulled for dentures</td>\n",
       "      <td>D2801526</td>\n",
       "      <td>http://jamiethedentist.com/immediate-dentures/...</td>\n",
       "    </tr>\n",
       "    <tr>\n",
       "      <th>7</th>\n",
       "      <td>7640410</td>\n",
       "      <td>discovery of dna timeline</td>\n",
       "      <td>D2362540</td>\n",
       "      <td>https://www.dna-worldwide.com/resource/160/his...</td>\n",
       "    </tr>\n",
       "    <tr>\n",
       "      <th>8</th>\n",
       "      <td>8890771</td>\n",
       "      <td>social security direct deposit</td>\n",
       "      <td>D9155</td>\n",
       "      <td>http://www.ssa.gov/agency/contact/</td>\n",
       "    </tr>\n",
       "    <tr>\n",
       "      <th>9</th>\n",
       "      <td>2585447</td>\n",
       "      <td>nat weather service</td>\n",
       "      <td>D81845</td>\n",
       "      <td>http://www.weather.gov/</td>\n",
       "    </tr>\n",
       "    <tr>\n",
       "      <th>10</th>\n",
       "      <td>6222806</td>\n",
       "      <td>south african deer</td>\n",
       "      <td>D1442545</td>\n",
       "      <td>http://africafreak.com/the-10-most-elegant-ant...</td>\n",
       "    </tr>\n",
       "    <tr>\n",
       "      <th>11</th>\n",
       "      <td>12711976</td>\n",
       "      <td>benito mussolini</td>\n",
       "      <td>D323657</td>\n",
       "      <td>http://www.bbc.co.uk/history/historic_figures/...</td>\n",
       "    </tr>\n",
       "    <tr>\n",
       "      <th>12</th>\n",
       "      <td>2987005</td>\n",
       "      <td>education of australia</td>\n",
       "      <td>D2336739</td>\n",
       "      <td>http://australia101.com/lifestyle/education/</td>\n",
       "    </tr>\n",
       "    <tr>\n",
       "      <th>13</th>\n",
       "      <td>7699062</td>\n",
       "      <td>how are mountain ranges formed</td>\n",
       "      <td>D2783531</td>\n",
       "      <td>https://www.universetoday.com/29833/how-mounta...</td>\n",
       "    </tr>\n",
       "    <tr>\n",
       "      <th>14</th>\n",
       "      <td>5521797</td>\n",
       "      <td>best prices for all inclusive vacations</td>\n",
       "      <td>D221115</td>\n",
       "      <td>https://www.oyster.com/articles/44575-the-12-b...</td>\n",
       "    </tr>\n",
       "    <tr>\n",
       "      <th>15</th>\n",
       "      <td>8482764</td>\n",
       "      <td>hdfc corporate net banking</td>\n",
       "      <td>D3300187</td>\n",
       "      <td>https://netbanking.hdfcbank.com/netbanking/</td>\n",
       "    </tr>\n",
       "    <tr>\n",
       "      <th>16</th>\n",
       "      <td>5600069</td>\n",
       "      <td>12 zodiac signs</td>\n",
       "      <td>D388834</td>\n",
       "      <td>http://www.bzodiac.com/</td>\n",
       "    </tr>\n",
       "    <tr>\n",
       "      <th>17</th>\n",
       "      <td>12559062</td>\n",
       "      <td>the roaring twenties history</td>\n",
       "      <td>D1679140</td>\n",
       "      <td>http://www.history.com/topics/roaring-twenties</td>\n",
       "    </tr>\n",
       "    <tr>\n",
       "      <th>18</th>\n",
       "      <td>10286122</td>\n",
       "      <td>nrg park</td>\n",
       "      <td>D2943917</td>\n",
       "      <td>https://en.wikipedia.org/wiki/NRG_Park</td>\n",
       "    </tr>\n",
       "    <tr>\n",
       "      <th>19</th>\n",
       "      <td>8552876</td>\n",
       "      <td>president term limit</td>\n",
       "      <td>D2112211</td>\n",
       "      <td>https://www.quora.com/After-a-US-President-ser...</td>\n",
       "    </tr>\n",
       "    <tr>\n",
       "      <th>20</th>\n",
       "      <td>4023511</td>\n",
       "      <td>original members of the beatles</td>\n",
       "      <td>D283096</td>\n",
       "      <td>https://en.wikipedia.org/wiki/The_Beatles</td>\n",
       "    </tr>\n",
       "    <tr>\n",
       "      <th>21</th>\n",
       "      <td>10462644</td>\n",
       "      <td>embed excel file in word document</td>\n",
       "      <td>D1844029</td>\n",
       "      <td>http://www.onlinepclearning.com/embed-excel-in...</td>\n",
       "    </tr>\n",
       "    <tr>\n",
       "      <th>22</th>\n",
       "      <td>2843876</td>\n",
       "      <td>the function of the small intestine</td>\n",
       "      <td>D313146</td>\n",
       "      <td>http://www.ivyroses.com/HumanBody/Digestion/Fu...</td>\n",
       "    </tr>\n",
       "    <tr>\n",
       "      <th>23</th>\n",
       "      <td>5287520</td>\n",
       "      <td>warehouse duties</td>\n",
       "      <td>D520816</td>\n",
       "      <td>https://resources.workable.com/warehouse-worke...</td>\n",
       "    </tr>\n",
       "    <tr>\n",
       "      <th>24</th>\n",
       "      <td>12357171</td>\n",
       "      <td>what to eat when you have diarrhea</td>\n",
       "      <td>D583870</td>\n",
       "      <td>https://www.webmd.com/digestive-disorders/dige...</td>\n",
       "    </tr>\n",
       "    <tr>\n",
       "      <th>25</th>\n",
       "      <td>10946856</td>\n",
       "      <td>www.nfip.gov</td>\n",
       "      <td>D3148984</td>\n",
       "      <td>https://www.fema.gov/national-flood-insurance-...</td>\n",
       "    </tr>\n",
       "    <tr>\n",
       "      <th>26</th>\n",
       "      <td>10384586</td>\n",
       "      <td>peer support uk</td>\n",
       "      <td>D3268458</td>\n",
       "      <td>https://www.mentalhealth.org.uk/a-to-z/p/peer-...</td>\n",
       "    </tr>\n",
       "    <tr>\n",
       "      <th>27</th>\n",
       "      <td>7745346</td>\n",
       "      <td>ryobi products</td>\n",
       "      <td>D2431060</td>\n",
       "      <td>http://www.ryobi.com/</td>\n",
       "    </tr>\n",
       "    <tr>\n",
       "      <th>28</th>\n",
       "      <td>11446271</td>\n",
       "      <td>forist</td>\n",
       "      <td>D102521</td>\n",
       "      <td>https://en.wikipedia.org/wiki/Forest</td>\n",
       "    </tr>\n",
       "    <tr>\n",
       "      <th>29</th>\n",
       "      <td>5205721</td>\n",
       "      <td>ar 350-15</td>\n",
       "      <td>D110302</td>\n",
       "      <td>https://550cord.com/army-physical-fitness-trai...</td>\n",
       "    </tr>\n",
       "    <tr>\n",
       "      <th>30</th>\n",
       "      <td>4672349</td>\n",
       "      <td>l x w x h calculator</td>\n",
       "      <td>D231763</td>\n",
       "      <td>http://www.calculator.net/volume-calculator.html</td>\n",
       "    </tr>\n",
       "    <tr>\n",
       "      <th>31</th>\n",
       "      <td>8218203</td>\n",
       "      <td>emperor penguin sounds</td>\n",
       "      <td>D1313966</td>\n",
       "      <td>http://www.antarctica.gov.au/about-antarctica/...</td>\n",
       "    </tr>\n",
       "    <tr>\n",
       "      <th>32</th>\n",
       "      <td>11429593</td>\n",
       "      <td>www.google.nl</td>\n",
       "      <td>D1486398</td>\n",
       "      <td>https://play.google.com/store</td>\n",
       "    </tr>\n",
       "    <tr>\n",
       "      <th>33</th>\n",
       "      <td>2572567</td>\n",
       "      <td>mike sub</td>\n",
       "      <td>D3385827</td>\n",
       "      <td>https://www.jerseymikes.com/menu</td>\n",
       "    </tr>\n",
       "    <tr>\n",
       "      <th>34</th>\n",
       "      <td>11653800</td>\n",
       "      <td>jeep compass 4x4</td>\n",
       "      <td>D21428</td>\n",
       "      <td>https://www.jeep.com/compass.html</td>\n",
       "    </tr>\n",
       "    <tr>\n",
       "      <th>35</th>\n",
       "      <td>9195400</td>\n",
       "      <td>sedja edit pdf</td>\n",
       "      <td>D1180820</td>\n",
       "      <td>https://www.sejda.com/pdf-editor</td>\n",
       "    </tr>\n",
       "    <tr>\n",
       "      <th>36</th>\n",
       "      <td>11980620</td>\n",
       "      <td>wood stove vent pipe</td>\n",
       "      <td>D1494138</td>\n",
       "      <td>http://www.woodlanddirect.com/Chimney/Chimney-...</td>\n",
       "    </tr>\n",
       "    <tr>\n",
       "      <th>37</th>\n",
       "      <td>4756253</td>\n",
       "      <td>asus g752vt</td>\n",
       "      <td>D3029872</td>\n",
       "      <td>https://www.asus.com/us/ROG-Republic-Of-Gamers...</td>\n",
       "    </tr>\n",
       "    <tr>\n",
       "      <th>38</th>\n",
       "      <td>8402089</td>\n",
       "      <td>novel definition</td>\n",
       "      <td>D1688782</td>\n",
       "      <td>https://www.vocabulary.com/dictionary/novel</td>\n",
       "    </tr>\n",
       "    <tr>\n",
       "      <th>39</th>\n",
       "      <td>9843850</td>\n",
       "      <td>arkansas health insurance marketplace</td>\n",
       "      <td>D79178</td>\n",
       "      <td>https://www.healthcare.gov/</td>\n",
       "    </tr>\n",
       "    <tr>\n",
       "      <th>40</th>\n",
       "      <td>9946430</td>\n",
       "      <td>boruto sub</td>\n",
       "      <td>D1735648</td>\n",
       "      <td>http://www.watchnaruto.tv/</td>\n",
       "    </tr>\n",
       "    <tr>\n",
       "      <th>41</th>\n",
       "      <td>10667847</td>\n",
       "      <td>exit realty</td>\n",
       "      <td>D627710</td>\n",
       "      <td>https://www.zillow.com/pensacola-fl/</td>\n",
       "    </tr>\n",
       "    <tr>\n",
       "      <th>42</th>\n",
       "      <td>9253013</td>\n",
       "      <td>whirlpool tumble dryer recall</td>\n",
       "      <td>D1909620</td>\n",
       "      <td>https://www.whirlpool.co.uk/contact-us/</td>\n",
       "    </tr>\n",
       "    <tr>\n",
       "      <th>43</th>\n",
       "      <td>11536337</td>\n",
       "      <td>blue jays website</td>\n",
       "      <td>D942257</td>\n",
       "      <td>https://www.mlb.com/bluejays</td>\n",
       "    </tr>\n",
       "    <tr>\n",
       "      <th>44</th>\n",
       "      <td>9109231</td>\n",
       "      <td>duplication of dna</td>\n",
       "      <td>D23971</td>\n",
       "      <td>https://en.wikipedia.org/wiki/DNA_replication</td>\n",
       "    </tr>\n",
       "    <tr>\n",
       "      <th>45</th>\n",
       "      <td>11178840</td>\n",
       "      <td>usps stop mail</td>\n",
       "      <td>D1347423</td>\n",
       "      <td>https://m.usps.com/m/Home</td>\n",
       "    </tr>\n",
       "    <tr>\n",
       "      <th>46</th>\n",
       "      <td>4980778</td>\n",
       "      <td>rampage movie</td>\n",
       "      <td>D342914</td>\n",
       "      <td>http://www.imdb.com/name/nm0604742/</td>\n",
       "    </tr>\n",
       "    <tr>\n",
       "      <th>47</th>\n",
       "      <td>4788908</td>\n",
       "      <td>types of insulin</td>\n",
       "      <td>D1256261</td>\n",
       "      <td>http://www.diabetes.co.uk/insulin/diabetes-and...</td>\n",
       "    </tr>\n",
       "    <tr>\n",
       "      <th>48</th>\n",
       "      <td>10361881</td>\n",
       "      <td>cost of living comparrison</td>\n",
       "      <td>D271020</td>\n",
       "      <td>http://www.bestplaces.net/col/</td>\n",
       "    </tr>\n",
       "    <tr>\n",
       "      <th>49</th>\n",
       "      <td>5642489</td>\n",
       "      <td>coputers</td>\n",
       "      <td>D1695839</td>\n",
       "      <td>https://www.walmart.com/cp/computers/3951</td>\n",
       "    </tr>\n",
       "  </tbody>\n",
       "</table>\n",
       "</div>"
      ],
      "text/plain": [
       "         QID                                    Query       DID  \\\n",
       "0    3384935                     first bank st. louis  D3528375   \n",
       "1    3027731    butler county animal shelter adoption   D851861   \n",
       "2   12597711               arthritis in hips symptoms  D3345659   \n",
       "3    5632693                               define con  D1081881   \n",
       "4    2623688                            change my vpn    D16921   \n",
       "5   11159815          what does the name tatiana mean   D881219   \n",
       "6    9592441        getting teeth pulled for dentures  D2801526   \n",
       "7    7640410                discovery of dna timeline  D2362540   \n",
       "8    8890771           social security direct deposit     D9155   \n",
       "9    2585447                      nat weather service    D81845   \n",
       "10   6222806                       south african deer  D1442545   \n",
       "11  12711976                         benito mussolini   D323657   \n",
       "12   2987005                   education of australia  D2336739   \n",
       "13   7699062           how are mountain ranges formed  D2783531   \n",
       "14   5521797  best prices for all inclusive vacations   D221115   \n",
       "15   8482764               hdfc corporate net banking  D3300187   \n",
       "16   5600069                          12 zodiac signs   D388834   \n",
       "17  12559062             the roaring twenties history  D1679140   \n",
       "18  10286122                                 nrg park  D2943917   \n",
       "19   8552876                     president term limit  D2112211   \n",
       "20   4023511          original members of the beatles   D283096   \n",
       "21  10462644        embed excel file in word document  D1844029   \n",
       "22   2843876      the function of the small intestine   D313146   \n",
       "23   5287520                         warehouse duties   D520816   \n",
       "24  12357171       what to eat when you have diarrhea   D583870   \n",
       "25  10946856                             www.nfip.gov  D3148984   \n",
       "26  10384586                          peer support uk  D3268458   \n",
       "27   7745346                           ryobi products  D2431060   \n",
       "28  11446271                                   forist   D102521   \n",
       "29   5205721                                ar 350-15   D110302   \n",
       "30   4672349                     l x w x h calculator   D231763   \n",
       "31   8218203                   emperor penguin sounds  D1313966   \n",
       "32  11429593                            www.google.nl  D1486398   \n",
       "33   2572567                                 mike sub  D3385827   \n",
       "34  11653800                         jeep compass 4x4    D21428   \n",
       "35   9195400                           sedja edit pdf  D1180820   \n",
       "36  11980620                     wood stove vent pipe  D1494138   \n",
       "37   4756253                              asus g752vt  D3029872   \n",
       "38   8402089                         novel definition  D1688782   \n",
       "39   9843850    arkansas health insurance marketplace    D79178   \n",
       "40   9946430                               boruto sub  D1735648   \n",
       "41  10667847                              exit realty   D627710   \n",
       "42   9253013            whirlpool tumble dryer recall  D1909620   \n",
       "43  11536337                        blue jays website   D942257   \n",
       "44   9109231                       duplication of dna    D23971   \n",
       "45  11178840                           usps stop mail  D1347423   \n",
       "46   4980778                            rampage movie   D342914   \n",
       "47   4788908                         types of insulin  D1256261   \n",
       "48  10361881               cost of living comparrison   D271020   \n",
       "49   5642489                                 coputers  D1695839   \n",
       "\n",
       "                                                  URL  \n",
       "0                         https://www.firstbanks.com/  \n",
       "1                http://www.animalfriendshs.org/adopt  \n",
       "2   https://www.healthline.com/health/osteoarthrit...  \n",
       "3                   http://www.yourdictionary.com/con  \n",
       "4   https://www.privateinternetaccess.com/pages/wh...  \n",
       "5   http://www.ourbabynamer.com/meaning-of-Tatiana...  \n",
       "6   http://jamiethedentist.com/immediate-dentures/...  \n",
       "7   https://www.dna-worldwide.com/resource/160/his...  \n",
       "8                  http://www.ssa.gov/agency/contact/  \n",
       "9                             http://www.weather.gov/  \n",
       "10  http://africafreak.com/the-10-most-elegant-ant...  \n",
       "11  http://www.bbc.co.uk/history/historic_figures/...  \n",
       "12       http://australia101.com/lifestyle/education/  \n",
       "13  https://www.universetoday.com/29833/how-mounta...  \n",
       "14  https://www.oyster.com/articles/44575-the-12-b...  \n",
       "15        https://netbanking.hdfcbank.com/netbanking/  \n",
       "16                            http://www.bzodiac.com/  \n",
       "17     http://www.history.com/topics/roaring-twenties  \n",
       "18             https://en.wikipedia.org/wiki/NRG_Park  \n",
       "19  https://www.quora.com/After-a-US-President-ser...  \n",
       "20          https://en.wikipedia.org/wiki/The_Beatles  \n",
       "21  http://www.onlinepclearning.com/embed-excel-in...  \n",
       "22  http://www.ivyroses.com/HumanBody/Digestion/Fu...  \n",
       "23  https://resources.workable.com/warehouse-worke...  \n",
       "24  https://www.webmd.com/digestive-disorders/dige...  \n",
       "25  https://www.fema.gov/national-flood-insurance-...  \n",
       "26  https://www.mentalhealth.org.uk/a-to-z/p/peer-...  \n",
       "27                              http://www.ryobi.com/  \n",
       "28               https://en.wikipedia.org/wiki/Forest  \n",
       "29  https://550cord.com/army-physical-fitness-trai...  \n",
       "30   http://www.calculator.net/volume-calculator.html  \n",
       "31  http://www.antarctica.gov.au/about-antarctica/...  \n",
       "32                      https://play.google.com/store  \n",
       "33                   https://www.jerseymikes.com/menu  \n",
       "34                  https://www.jeep.com/compass.html  \n",
       "35                   https://www.sejda.com/pdf-editor  \n",
       "36  http://www.woodlanddirect.com/Chimney/Chimney-...  \n",
       "37  https://www.asus.com/us/ROG-Republic-Of-Gamers...  \n",
       "38        https://www.vocabulary.com/dictionary/novel  \n",
       "39                        https://www.healthcare.gov/  \n",
       "40                         http://www.watchnaruto.tv/  \n",
       "41               https://www.zillow.com/pensacola-fl/  \n",
       "42            https://www.whirlpool.co.uk/contact-us/  \n",
       "43                       https://www.mlb.com/bluejays  \n",
       "44      https://en.wikipedia.org/wiki/DNA_replication  \n",
       "45                          https://m.usps.com/m/Home  \n",
       "46                http://www.imdb.com/name/nm0604742/  \n",
       "47  http://www.diabetes.co.uk/insulin/diabetes-and...  \n",
       "48                     http://www.bestplaces.net/col/  \n",
       "49          https://www.walmart.com/cp/computers/3951  "
      ]
     },
     "execution_count": 3,
     "metadata": {},
     "output_type": "execute_result"
    }
   ],
   "source": [
    "#| echo: false\n",
    "\n",
    "df_sample = df.sample(n=50).reset_index(drop=True)\n",
    "df_sample.columns = ['QID', 'Query', 'DID', 'URL']\n",
    "df_sample"
   ]
  },
  {
   "cell_type": "markdown",
   "id": "5d52bb10",
   "metadata": {},
   "source": [
    "# Q2Q Dataset"
   ]
  },
  {
   "cell_type": "markdown",
   "id": "512c20da",
   "metadata": {},
   "source": [
    "This dataset was generated by utilizing the ORCAS query-document bipartite graph by collecting all two-hop neighbors of each query. The queries were then ranked based on the number of different paths leading to each query. The construction of this dataset can be replicated using the code available at this [link](https://github.com/suchith720/ORCASRelatedQueries)."
   ]
  },
  {
   "cell_type": "code",
   "execution_count": 4,
   "id": "eced432e",
   "metadata": {},
   "outputs": [],
   "source": [
    "#| echo: false\n",
    "\n",
    "import pickle\n",
    "import numpy as np\n",
    "\n",
    "def save_pickle(filename, obj):\n",
    "    with open(filename, \"wb\") as fout:\n",
    "        pickle.dump(obj, fout, pickle.HIGHEST_PROTOCOL)\n",
    "        \n",
    "def load_pickle(filename):\n",
    "    with open(filename, \"rb\") as fout:\n",
    "        return pickle.load(fout)"
   ]
  },
  {
   "cell_type": "code",
   "execution_count": 5,
   "id": "03b2a961",
   "metadata": {},
   "outputs": [],
   "source": [
    "#| echo: false\n",
    "\n",
    "map_file = \"../data/query_map.pkl\"\n",
    "query_file = \"../data/query2query_graph.pkl\"\n",
    "\n",
    "q2q_data = load_pickle(query_file)\n",
    "map_data = load_pickle(map_file)"
   ]
  },
  {
   "cell_type": "markdown",
   "id": "7bd921f9",
   "metadata": {},
   "source": [
    "Please find below a brief overview of the dataset:"
   ]
  },
  {
   "cell_type": "code",
   "execution_count": 34,
   "id": "6470715d",
   "metadata": {},
   "outputs": [
    {
     "name": "stdout",
     "output_type": "stream",
     "text": [
      "1. what is gallagher bassett\n",
      "* mygbclaim, gallagher bassett customer service, gallagher basett, gallagher bassett po box 2831 clinton iowa, gallagher bassett work comp phone number, gallagher bassett, po box 20369 bradenton fl 34204, gallagher bassett provider claim status, gallagher bassett services inc claims, gallagher bassett fax number, gallagher bassett provider website, gbtpa insurance, gallagher and bassett, www.mygbclaim.com, gallagher bassett po box 2831, gallagher bassett locations, gallagherbassett, gallagher bassett provider portal, gallagher bassett for providers, surgery to remove kidney stones\n",
      "\n",
      "2. storage around me\n",
      "* self storage units near me, rental storage containers, u haul storage units, free month storage near me, cheap storage places near me, free storage in, storage units nearby, portable storage units rent, local storage containers for rent, uhaul storage auctions, weekly storage units, uhaulå®ç½, storage rentals near me, u-haul rentals, storage places near me, stoarge, cheap climate controlled storage units, indoor storage units near me, storage lockers near me, surgery to remove kidney stones\n",
      "\n",
      "3. soft c sound words\n",
      "* words with soft c, words with ci, soft c, soft c rule, soft and hard c, soft c sound words, soft c words, hard and soft c, soft c phonics, soft c word list, soft c sound, surgery to remove kidney stones\n",
      "\n",
      "4. how does baking soda and vinegar react\n",
      "* reaction of vinegar and baking soda, chemical reaction between baking soda and vinegar, why does baking soda and vinegar react, baking soda and vinegar reaction, vinegar and baking soda chemical reaction, reaction between vinegar and baking soda, vinegar baking soda reaction, sodium bicarbonate and vinegar reaction, baking soda vinegar experiment explanation, mixing vinegar and baking soda, why does vinegar and baking soda react, vinegar and baking soda reaction, baking soda vinegar, vinegar and baking soda research, how does baking soda and vinegar react, baking soda and vinegar chemical reaction, baking soda and vinegar, chemical reaction of baking soda and vinegar, reaction between baking soda and vinegar, surgery to remove kidney stones\n",
      "\n",
      "5. hp instant ink business\n",
      "* hewlett packard official website, hp instant ink printers list, www,hpinstantink.com, hp link, hpinstantink com sign in, ink for my hp printer, create hp account, computer ink, hp ink login account, epson instant ink program, hp printer offer, istantink, hpinstant ink.com, instant ink website, hpconnected login, login.id.hp.com, h p ink, hp instant ink accedi, hp instant inl, surgery to remove kidney stones\n",
      "\n",
      "6. oatmeal nutritional value\n",
      "* oatmeal nutrition, oatmeal nutrition facts, oatmeal nutritional value, nutrients in oatmeal, oatmeal nutritional information, nutrition facts for oatmeal, old fashioned oats nutrition, oatmeal serving, oats nutrition, nutrition oatmeal, nutrition facts oatmeal, nutrition of oatmeal, oatmeal serving size, nutritional value of oatmeal, nutrition in oatmeal, calories in a cup of oatmeal, old fashioned oats, carbs in oatmeal 1 cup, oatmeal instructions, surgery to remove kidney stones\n",
      "\n",
      "7. conspiracy theories meaning\n",
      "* conspiracy theories meaning, conspiracy theories, what does conspiracy theory mean, conspiracy theory definition, what is a conspiracy theory, conspiracy theories definition, conspiracy theory, the conspiracy theory, what is conspiracy theories, define conspiracy theory, conspiracy definition, conspiracy theorists, conspiracy, what is conspiracy theory, conspiracy theorist, what is conspiracy, definition of conspiracy theory, conspiracies definition, the conspiracy, surgery to remove kidney stones\n",
      "\n",
      "8. denver airport to downtown denver\n",
      "* how to get from denver airport to downtown, how far is denver airport from downtown, denver airport, shuttle service from denver airport, denver airport transportation options, denver airport shuttle service, denver airport transportation, denver international airport, denver airport to downtown, transportation from denver airport to downtown, denver airport to downtown denver, bus to denver airport, denver light rail to airport, denver airport shuttle, denver airport transportation to downtown, den airport, getting from denver airport to downtown, denver colorado airport address, airport shuttle denver airport, surgery to remove kidney stones\n",
      "\n",
      "9. cherished definition\n",
      "* cherished definition, cherished, surgery to remove kidney stones\n",
      "\n",
      "10. advantages of uranium\n",
      "* nuclear advantages and disadvantages, nuclear energy advantages and disadvantages, nuclear energy advantages, advantages of uranium, advantages of nuclear energy, advantages and disadvantages of nuclear energy, nuclear power advantages and disadvantages, advantages of using nuclear energy, surgery to remove kidney stones\n",
      "\n",
      "11. movies near me fandango\n",
      "* movie, movie theater schedule, whats on at the movies, it showtimes, movies in theaters now, mivies near me, movie theaters near me, local theaters showtimes, movies for you, fandango theatres, fandna, +fandago, look movie, thearters, showtimes near me, movie theaters near you, fandango movie theaters, fandangonow account, movies', surgery to remove kidney stones\n",
      "\n",
      "12. just diagnosed with diabetes\n",
      "* just diagnosed with diabetes, being diagnosed with diabetes, newly diagnosed diabetic, new diagnosis of diabetes, type 2 diabetes, i have diabetes what now, being diabetic, living with diabetes, i have diabetes, what to do if you have diabetes, new diabetes diagnosis, newly diagnosed diabetes, how do i know if i have diabetes, changing life with diabetes, newly diagnosed diabetes education pdf, what happens when you get diabetes, diabetes, newly diagnosed with diabetes, new diabetic, surgery to remove kidney stones\n",
      "\n",
      "13. home water shut off valves\n",
      "* home water shut off valves, water valves, how to turn off water to house, shut off water, water shut off valve, water shut off, how to shut off water to house, how to turn water off to house, how to turn water off, water shut-off valve, types of water shut off valves, water valve types, main water shut off, what is a shut off valve, main shut off valve, water shut off valves types, shutting off water to house, water cutoff valve, water shutoff valve, surgery to remove kidney stones\n",
      "\n",
      "14. teething symptoms baby\n",
      "* teething symptoms baby, how to tell if baby is teething, teething in babies, teething, 1 year old teething symptoms, teething babies symptoms, signs baby is teething, signs a baby is teething, side effects of teething, teething problems, teething symptoms toddler, teething symptoms in babies, signs of teething in babies, symptoms of teething in babies, signs of baby teething, symptoms of teething, baby teething age, when do babies start teething, teething signs, surgery to remove kidney stones\n",
      "\n",
      "15. dota 2 updates\n",
      "* vç¤¾å®ç½, daota 2, data2, dota 2 new hero, dota23, dota2, dot 2, dpta 2, doda game, dot2, d0ta2, dot a2, dac dota 2, dot a, valve dota, joindota, dota2., doda2, rdota2, surgery to remove kidney stones\n",
      "\n",
      "16. lg phone charger\n",
      "* lg wireless charger, lg v20 charger, lg cell phone charger cords, phone charger wireless, lg phone charger, lg charger, lg fast charger, lg phone accessories, lg cell phone chargers, lg v20 phone charger, phone chargers, cellphone chargers, phone charger, lg phone chargers, lg charge, lg g6 charger, cell phone chargers, surgery to remove kidney stones\n",
      "\n",
      "17. free crochet video tutorials\n",
      "* lookatwhatimade, crochet tutorial, all free crochet patterns, crochet bag tutorial, look what i made, crochet video tutorial, crochet patterns, crochet, look at what i made, crochet animals, look at what i made crochet, crochet motif patterns free, crochet tutorials, free printable border patterns, free crochet pattern to print, crochet patterns for kids, crochet patterns free, crochet patterns for animals, crochet youtube, surgery to remove kidney stones\n",
      "\n",
      "18. cooking cow tongue\n",
      "* how to cook cows tongue, cooking tongue, cooking cow tongue, cooking beef tongue, how to cook tongue beef, how to cook beef tongue, german pickled tongue recipe, how to cook tongue, surgery to remove kidney stones\n",
      "\n",
      "19. heart palpitations when sitting\n",
      "* best magnesium for heart palpitations, can magnesium cause heart palpitations, magnesium and palpitations, magnesium heart palpitation, magnesium for heart palpitations, supplements that cause palpitations, magnesium for palpitations, heart palpitations when resting, magnesium and heart palpitations, heart palpitations when sitting, surgery to remove kidney stones\n",
      "\n",
      "20. how to delete multiple items in outlook\n",
      "* outlook permanently delete emails, how to permanently delete emails in outlook, how do i delete emails in outlook, how to delete emails in outlook, how to delete deleted emails outlook, deleted items in outlook, outlook deleting emails, delete email outlook, how do i permanently delete email, how do you permanently delete emails, how to remove deleted emails from outlook, outlook permanently delete, how to permanently delete outlook emails, delete all deleted items, permanently delete outlook emails, how to delete outlook email, deleting emails in outlook, how to delete outlook account permanently, permanently delete outlook email, surgery to remove kidney stones\n",
      "\n"
     ]
    }
   ],
   "source": [
    "#| echo: false\n",
    "#| panel: input\n",
    "\n",
    "for i, qid in enumerate(np.random.randint(len(map_data), size=20)):\n",
    "    print(f'{i+1}. {map_data[qid]}')\n",
    "    print(\"* \", end='')\n",
    "    for rqid in q2q_data[qid][:19]:\n",
    "        print(map_data[rqid], \",\", sep=\"\", end=\" \")\n",
    "    print(map_data[20], end=\"\\n\\n\")"
   ]
  },
  {
   "cell_type": "markdown",
   "id": "fd6c1e9e",
   "metadata": {},
   "source": [
    "# Statistics"
   ]
  },
  {
   "cell_type": "markdown",
   "id": "3b8a088e",
   "metadata": {},
   "source": [
    "The ORCAS related query dataset has been stored in two distinct formats: one for the Extreme classification (XC) tasks, and another for Natural Language Generation (NLG) tasks."
   ]
  },
  {
   "cell_type": "markdown",
   "id": "e9d96e99",
   "metadata": {},
   "source": [
    "* `Total number of queries      :` 10,405,317\n",
    "* `Average number of co-queries :` 327.6417\n",
    "* `Maximum number of co-queries :` 88,030\n",
    "* `Mininum number of co-queries :` 1 "
   ]
  },
  {
   "cell_type": "code",
   "execution_count": 32,
   "id": "372b1b9a",
   "metadata": {},
   "outputs": [
    {
     "data": {
      "text/plain": [
       "(327.64171442350096, 88030, 1)"
      ]
     },
     "execution_count": 32,
     "metadata": {},
     "output_type": "execute_result"
    }
   ],
   "source": [
    "#| echo: false\n",
    "#| output: false\n",
    "\n",
    "np.mean(neighbours), np.max(neighbours), np.min(neighbours)"
   ]
  },
  {
   "cell_type": "markdown",
   "id": "152e49ef",
   "metadata": {},
   "source": [
    "The table below presents information on the percentage of queries with co-queries less than or equal to a given threshold."
   ]
  },
  {
   "cell_type": "code",
   "execution_count": 35,
   "id": "c4a69bc6",
   "metadata": {},
   "outputs": [
    {
     "data": {
      "text/html": [
       "<div>\n",
       "<style scoped>\n",
       "    .dataframe tbody tr th:only-of-type {\n",
       "        vertical-align: middle;\n",
       "    }\n",
       "\n",
       "    .dataframe tbody tr th {\n",
       "        vertical-align: top;\n",
       "    }\n",
       "\n",
       "    .dataframe thead th {\n",
       "        text-align: right;\n",
       "    }\n",
       "</style>\n",
       "<table border=\"1\" class=\"dataframe\">\n",
       "  <thead>\n",
       "    <tr style=\"text-align: right;\">\n",
       "      <th></th>\n",
       "      <th>5 queries</th>\n",
       "      <th>50 queries</th>\n",
       "      <th>100 queries</th>\n",
       "      <th>1000 queries</th>\n",
       "    </tr>\n",
       "  </thead>\n",
       "  <tbody>\n",
       "    <tr>\n",
       "      <th>%</th>\n",
       "      <td>6.96</td>\n",
       "      <td>42.71</td>\n",
       "      <td>58.48</td>\n",
       "      <td>92.7</td>\n",
       "    </tr>\n",
       "  </tbody>\n",
       "</table>\n",
       "</div>"
      ],
      "text/plain": [
       "  5 queries 50 queries 100 queries 1000 queries\n",
       "%      6.96      42.71       58.48         92.7"
      ]
     },
     "execution_count": 35,
     "metadata": {},
     "output_type": "execute_result"
    }
   ],
   "source": [
    "#| echo: false\n",
    "\n",
    "columns = ['5 queries', '50 queries', '100 queries', '1000 queries']\n",
    "x = ['6.96', '42.71', '58.48', '92.7']\n",
    "df = pd.DataFrame([x], columns=columns, index=['%'])\n",
    "df"
   ]
  },
  {
   "cell_type": "markdown",
   "id": "19d90252",
   "metadata": {},
   "source": [
    "The distribution of co-queries is displayed below."
   ]
  },
  {
   "cell_type": "code",
   "execution_count": 10,
   "id": "81f0f036",
   "metadata": {},
   "outputs": [],
   "source": [
    "#| echo: false\n",
    "\n",
    "neighbours = X_Y.getnnz(axis=1)\n",
    "sort_idx = np.argsort(neighbours)"
   ]
  },
  {
   "cell_type": "code",
   "execution_count": 31,
   "id": "e2c9538c",
   "metadata": {},
   "outputs": [
    {
     "data": {
      "text/plain": [
       "(0.06966178925639652,\n",
       " 0.42716536170882635,\n",
       " 0.5848974135050379,\n",
       " 0.9270864116874095)"
      ]
     },
     "execution_count": 31,
     "metadata": {},
     "output_type": "execute_result"
    }
   ],
   "source": [
    "#| echo: false\n",
    "#| output: false\n",
    "\n",
    "np.mean(neighbours <= 5), np.mean(neighbours <= 50), np.mean(neighbours <= 100), np.mean(neighbours <= 1000)"
   ]
  },
  {
   "cell_type": "code",
   "execution_count": 59,
   "id": "01e61b7e",
   "metadata": {},
   "outputs": [
    {
     "data": {
      "image/png": "[encoded data removed]",
      "text/plain": [
       "<Figure size 1500x700 with 1 Axes>"
      ]
     },
     "metadata": {},
     "output_type": "display_data"
    }
   ],
   "source": [
    "#| echo: false\n",
    "\n",
    "plt.figure(figsize=(15, 7))\n",
    "plt.plot(np.sort(neighbours[sort_idx]))\n",
    "plt.ylabel(\"number of co-queries\")\n",
    "plt.xlabel(\"query\")\n",
    "plt.title('Co-query distribution')\n",
    "plt.show()"
   ]
  },
  {
   "cell_type": "code",
   "execution_count": 7,
   "id": "f8f01070",
   "metadata": {},
   "outputs": [],
   "source": [
    "#| echo: false\n",
    "\n",
    "query_map = load_pickle(\"../data/ORCASRelatedQueries/tmp/query_map.pkl\")"
   ]
  },
  {
   "cell_type": "markdown",
   "id": "c313ff1b",
   "metadata": {},
   "source": [
    "Presented below are some of the queries with the least number of co-queries."
   ]
  },
  {
   "cell_type": "code",
   "execution_count": 22,
   "id": "e3c13716",
   "metadata": {},
   "outputs": [
    {
     "name": "stdout",
     "output_type": "stream",
     "text": [
      "* dust mite size\n",
      "- dust mite size\n",
      "\n",
      "* pentwater michigan rentals\n",
      "- pentwater michigan rentals\n",
      "\n",
      "* cottage grove oregon population\n",
      "- cottage grove oregon population\n",
      "\n",
      "* what does burdensome mean\n",
      "- what does burdensome mean\n",
      "\n",
      "* callaway shafts replacements\n",
      "- callaway shafts replacements\n",
      "\n",
      "* what is a mac mini used for\n",
      "- what is a mac mini used for\n",
      "\n",
      "* solar rechargeable batteries\n",
      "- solar rechargeable batteries\n",
      "\n",
      "* pronographic timeline\n",
      "- pronographic timeline\n",
      "\n",
      "* autocad express tools download\n",
      "- autocad express tools download\n",
      "\n",
      "* 300 gb\n",
      "- 300 gb\n",
      "\n"
     ]
    }
   ],
   "source": [
    "#| echo: false\n",
    "#| panel: input\n",
    "\n",
    "def query_stat_1(idxs):\n",
    "    for idx in idxs:\n",
    "        row = X_Y[idx]\n",
    "        print(f'* {query_map[idx]}')\n",
    "        for i, ridx in enumerate(row.indices[:20]):\n",
    "            if i == 0:\n",
    "                print(f'- {query_map[ridx]}', end='')\n",
    "            else:\n",
    "                print(f', {query_map[ridx]}', end='')\n",
    "        print(end='\\n\\n')\n",
    "        \n",
    "query_stat_1(sort_idx[:10])"
   ]
  },
  {
   "cell_type": "markdown",
   "id": "dead38c1",
   "metadata": {},
   "source": [
    "Presented below are some of the queries with the highest number of co-queries."
   ]
  },
  {
   "cell_type": "code",
   "execution_count": 25,
   "id": "d01f3b80",
   "metadata": {},
   "outputs": [
    {
     "name": "stdout",
     "output_type": "stream",
     "text": [
      "* youtube\n",
      "- by yahoo, live cnn news, mfacebookcom, apple 10 max, .io unblocked, face blook, apaple, Ð¾Ð¾Ð½, downlond, amexsavings, american express credit card customer service, ryan. toy, ericanexpress, apple \\x5c, www.face book.com, mankreft, d.facebook, how to change youtube url name, toys and me on youtube, wells fargo home rebate card\n",
      "\n",
      "* y\n",
      "- by yahoo, www.bbt.comchecks, apple 10 max, .io unblocked, gmaildownload, apaple, bluebook price, y chromosome genes, la time, shutterfly site, www.gamil.com sign in, weebily, mg.mail.yahoo.com login, khan academy classroom, apple \\x5c, bbb bank, mue torrent, ako enterprise email link, ubunyu, check my ako account\n",
      "\n",
      "* email\n",
      "- by yahoo, faily mail, mail com email, gmaildownload, outlook ogin, www.gamil.com sign in, mg.mail.yahoo.com login, aller sur mon compte icloud, osu one source, i cloud accesso, daily l, www.outlook.lcom, myatt.mail, att.net login home, oiutlo, https://mail.com/, googlemail log on uk, daily mail sign in uk, contact u, ako enterprise email link\n",
      "\n",
      "* www.\n",
      "- mfacebookcom, https://getpocket.com, face blook, govt mot, ups.com/addcheer, post office moving, office home and office, myhumana login, skype for busineess, skype for business basic download free, hire someone, irs.gov/where is my refund, us post office online, gov/tax vehicle, fidelity retirement log in, www.face book.com, ypwork, mot hi, labor stats, play chinese chess\n",
      "\n",
      "* www\n",
      "- accounts.microsoft xbox, mfacebookcom, https://getpocket.com, face blook, new cars buy, govt mot, ups.com/addcheer, post office moving, outlook ogin, skype for busineess, word para windows, skype for business basic download free, hire someone, microsoft.online.com login, ssa .gov, irs.gov/where is my refund, us post office online, gov/tax vehicle, fidelity retirement log in, www.face book.com\n",
      "\n",
      "* mail\n",
      "- by yahoo, faily mail, mail com email, gmaildownload, ups.com/addcheer, post office moving, outlook ogin, www.gamil.com sign in, mg.mail.yahoo.com login, aller sur mon compte icloud, us post office online, i cloud accesso, daily l, www.outlook.lcom, myatt.mail, att.net login home, oiutlo, https://mail.com/, googlemail log on uk, daily mail sign in uk\n",
      "\n",
      "* google\n",
      "- faily mail, .co.in websites, google drive ãã¦ã³ãã¼ã windows, google drive pc, gmaildownload, gmail g suite, data collection, www.speedtest.net vodafone, update aadhaar details online, install google earth free download, what's my wifi speed, www.gamil.com sign in, google insight speed test, speedetest.net, daily l, +google.com, google chrome dawonload, googlemail log on uk, speedtest rcn, daily mail sign in uk\n",
      "\n",
      "* s\n",
      "- phoenix arizone, s!, live cnn news, aaaas, xbox live messages on pc, papa john's superhero pizza, haaain, apple 10 max, moody's bond ratings, sign in xbox live, apaple, gmail g suite, chicago band members dead, downlond, www.speedtest.net vodafone, papa john's near me delivery, what's my wifi speed, watsapp descargar, u ofmn, sprouts online ordering\n",
      "\n",
      "* weather\n",
      "- sunderland weather forecast, wheather in nj, weather bc, oklahoma city weather today, nampa news, current weather conditions in charlotte nc, rocklin weather forecast, charleston south carolina weather in march, hurricane september 2017, accuweather 15143 hourly, wisconsin dells 10 day forecast, what's the weather right now, saratoga weather forecast, temperature fort lauderdale, dallas texas flooding, weather atlanta, ga, nws knoxville, meteireann, las vegas weather today, current weather in north dakota\n",
      "\n",
      "* bing\n",
      "- jv lm, by yahoo, live cnn news, mpn competencies, outlook ogin, pa cash 5, www.speedtest.net vodafone, browser check, what's my wifi speed, vindicator, pncbank.com personal bankinglog on, speedetest.net, osu one source, costco online shopping catalog, www.outlook.lcom, oiutlo, redding ca news today, speedtest rcn, dominos wasilla, souix falls\n",
      "\n"
     ]
    }
   ],
   "source": [
    "#| echo: false\n",
    "#| panel: input\n",
    "\n",
    "query_stat_1(sort_idx[-10:])"
   ]
  },
  {
   "cell_type": "markdown",
   "id": "b0f3d6bc",
   "metadata": {},
   "source": [
    "Presented below are some of the queries with an average number of co-queries."
   ]
  },
  {
   "cell_type": "code",
   "execution_count": 28,
   "id": "6994e707",
   "metadata": {},
   "outputs": [
    {
     "name": "stdout",
     "output_type": "stream",
     "text": [
      "* city of redmond wa\n",
      "- act, redmond california, redmond washington microsoft, redmond or, redmond oregon, redmon, redmond wa 98052, erdmond, city of redmond or, redding washington, city of, redman wa, redmond ca, city of redmond permit center, microsoft washington state, ha, redmond microsoft, construction hours, redmond population, redmond pool\n",
      "\n",
      "* dumbo 1941\n",
      "- dumbo crows, dumbo walt disney, dumbo ending, dumbo film wiki, dumbo mother, dumbo original film, dumbo animated film, dumbo wiki, name of mouse in dumbo, dumbo 1941, story of dumbo, dumbo the elephant full movie, dumbo animated, does dumbo die, dumbo animated movie, udmbo, dumbo vhs, crows dumbo, dumbo storyline, does dumbo's mom die\n",
      "\n",
      "* ear wash flush\n",
      "- ear flush, ear irrigator, ear syringing procedure, ear rinse, ear flushing, ear syringe, ear washer, ear wash, how to clean ears out, ear wax irrigation, ear irrigation system, ear irrigation, ear wash flush, how to get water out of ear, how to unplug ears, ear wash kit, peroxide to clean ear wax, ear wax removal doctor's office, ear wax removal, flush ears\n",
      "\n",
      "* the institute of internal auditors\n",
      "- auditing qualifications uk, iia.com, internal audit qualification, www.iia, internal auditor courses, iia code of ethics, institute internal auditors, institute of internal auditors uk, iia.org, certified internal auditor certification, iia standards pdf, internal auditors association, cia iia, internal audit institute, the iia, iia uk, iia website, institute of internal auditing, international standards for the professional practice of internal auditing, iia uk and ireland\n",
      "\n",
      "* highline canvas\n",
      "- highline collge, higline college, highline email, highline community college washington, canvas.highline, highline bookstore, highline canvas login, highline student email, highline colleg, highline classes, www.highline.com, highlin, highline, highline canvas, highline college registration, canvas highline login, highline college des moines wa, highline cc, highline college canvas log in, highli\n",
      "\n",
      "* current minimum wage in illinois\n",
      "- what is the minimum wage in illinois 2019, state of illinois minimum wage 2019, state of illinois minimum wage, illinois minimum wage 2019, minimum wage by year, minimum wage il, what is minimum wage in il, illinois state minimum wage 2019, minimum wage illinois 2018, illinois minimum wage increase schedule, minimum wage 1972, what is illinois minimum wage for 2019, il minimum wage 2020, what is illinois minimum wage, what is minimum wage in illinois, what is the minimum wage in illinois, il minimum wage increase 2019, minimum wage by year chart, current minimum wage in illinois, what is minimum wage in illinois 2019\n",
      "\n",
      "* over the range microwaves\n",
      "- over range microwave oven, over stove microwave oven, over the stove microwave ovens, best microwave vent hood combo, best over the range microwaves, above the stove microwave ovens, microwave ovens over the range, over the range microwave reviews, best over range microwave, microwave reviews 2018, best over range microwaves 2018, best over the stove microwave, best over the range microwave ovens, over the range microwave ovens, best microwave oven, best rated microwave, what is the best over the range microwave, top rated microwaves 2018, top rated over the range microwaves 2018, top rated microwaves\n",
      "\n",
      "* asthma medication chart\n",
      "- asthma pumps, medication for asthma, asthmatic, best treatment for asthma, routine care for asthma, inhalers asthma, best asthma treatment, drugs to treat asthma, saba inhaler, inhaler medicine, asthma drug, asthma drugs, medicines for asthma, asthma inhalers side effects, asthma medicine, treatments of asthma, nebulizer medications, asthma cures, inhalers for asthma uk, side effects of fostair inhaler\n",
      "\n",
      "* roasting peppers\n",
      "- roasting red peppers in oven, baked peppers, roasted pepper recipe, best way to roast peppers, roasted sweet peppers, roast peppers recipe, roast peppers in oven, roasted peppers in oven, roasted red pepper, roasted pepper, how to roast peppers in oven, roasted red peppers oven, how to roast peppers, roast red peppers, how to roast a red pepper, how to roast bell peppers, recipe for roasted peppers, roasted red bell pepper, roasted bell peppers oven, roasting peppers in oven\n",
      "\n"
     ]
    }
   ],
   "source": [
    "#| echo: false\n",
    "#| panel: input\n",
    "\n",
    "query_stat_1(sort_idx[5202658-5:5202658+4])"
   ]
  },
  {
   "cell_type": "markdown",
   "id": "e2a7059d",
   "metadata": {},
   "source": [
    "# XC dataset"
   ]
  },
  {
   "cell_type": "markdown",
   "id": "50743ed9",
   "metadata": {},
   "source": [
    "The XC datasets contain the following files:"
   ]
  },
  {
   "cell_type": "code",
   "execution_count": 2,
   "id": "75bfdfe5",
   "metadata": {},
   "outputs": [],
   "source": [
    "#| echo: false\n",
    "\n",
    "import torch\n",
    "from tqdm.notebook import tqdm\n",
    "import matplotlib.pyplot as plt\n",
    "import xclib.data.data_utils as du\n",
    "import pandas as pd"
   ]
  },
  {
   "cell_type": "code",
   "execution_count": 5,
   "id": "fdadba74",
   "metadata": {},
   "outputs": [],
   "source": [
    "#| echo: false\n",
    "\n",
    "X_Y = load_pickle(\"../data/ORCASRelatedQueries/XC/X_Y.pkl\")\n",
    "trn_X_Y = load_pickle(\"../data/ORCASRelatedQueries/XC/trn_X_Y.pkl\")\n",
    "tst_X_Y = load_pickle(\"../data/ORCASRelatedQueries/XC/tst_X_Y.pkl\")\n",
    "\n",
    "train_map = pd.read_csv(\"../data/ORCASRelatedQueries/XC/train_map.txt\", header=None)\n",
    "test_map = pd.read_csv(\"../data/ORCASRelatedQueries/XC/test_map.txt\", header=None)\n",
    "label_map = pd.read_csv(\"../data/ORCASRelatedQueries/XC/label_map.txt\", header=None)"
   ]
  },
  {
   "cell_type": "code",
   "execution_count": 6,
   "id": "8e9d3065",
   "metadata": {},
   "outputs": [],
   "source": [
    "#| echo: false\n",
    "\n",
    "def get_stat(graph):\n",
    "    return graph.shape[0], graph.shape[1], np.mean(graph.getnnz(axis=0)), np.mean(graph.getnnz(axis=1))"
   ]
  },
  {
   "cell_type": "code",
   "execution_count": 52,
   "id": "45bdeec9",
   "metadata": {},
   "outputs": [
    {
     "data": {
      "text/plain": [
       "((10405317, 10405317, 327.64171442350096, 327.64171442350096),\n",
       " (7082756, 10019510, 238.33109563242115, 337.15135690118365),\n",
       " (3072092, 10019510, 101.80979419153232, 332.0487312879953))"
      ]
     },
     "execution_count": 52,
     "metadata": {},
     "output_type": "execute_result"
    }
   ],
   "source": [
    "#| echo: false\n",
    "#| output: false\n",
    "\n",
    "get_stat(X_Y), get_stat(trn_X_Y), get_stat(tst_X_Y)"
   ]
  },
  {
   "cell_type": "markdown",
   "id": "d299a5f2",
   "metadata": {},
   "source": [
    "* `X_Y.pkl                 :` contains the entire query to query bipartite graph.\n",
    "* `trn_X_Y.pkl             :` training data in pickle format.<br>\n",
    "* `trn_X_Y.txt             :` training data in XC format.<br>\n",
    "* `tst_X_Y.pkl             :` testing data in pickle format.<br>\n",
    "* `tst_X_Y.txt             :` testing data in XC format.\n",
    "* `train_map.txt           :` mapping from query ID to query text for training data points.<br>\n",
    "* `test_map.txt            :` mapping from query ID to query text for testing data points.<br>\n",
    "* `label_map.txt           :` mapping from query ID to query text for label data points.\n",
    "* `filter_labels_train.txt :` filter file for testing data.<br>\n",
    "* `filter_labels_test.txt  :` filter file of training data."
   ]
  },
  {
   "cell_type": "markdown",
   "id": "be3cf8c0",
   "metadata": {},
   "source": [
    "The following statistics provide an overview of the XC dataset:"
   ]
  },
  {
   "cell_type": "code",
   "execution_count": 54,
   "id": "3a311b79",
   "metadata": {},
   "outputs": [
    {
     "data": {
      "text/html": [
       "<div>\n",
       "<style scoped>\n",
       "    .dataframe tbody tr th:only-of-type {\n",
       "        vertical-align: middle;\n",
       "    }\n",
       "\n",
       "    .dataframe tbody tr th {\n",
       "        vertical-align: top;\n",
       "    }\n",
       "\n",
       "    .dataframe thead th {\n",
       "        text-align: right;\n",
       "    }\n",
       "</style>\n",
       "<table border=\"1\" class=\"dataframe\">\n",
       "  <thead>\n",
       "    <tr style=\"text-align: right;\">\n",
       "      <th></th>\n",
       "      <th>Filename</th>\n",
       "      <th>Number of points</th>\n",
       "      <th>Number of labels</th>\n",
       "      <th>Avg. points per label</th>\n",
       "      <th>Avg. labels per points</th>\n",
       "    </tr>\n",
       "  </thead>\n",
       "  <tbody>\n",
       "    <tr>\n",
       "      <th>0</th>\n",
       "      <td>X_Y.pkl</td>\n",
       "      <td>10405317</td>\n",
       "      <td>10405317</td>\n",
       "      <td>327.6417</td>\n",
       "      <td>327.6417</td>\n",
       "    </tr>\n",
       "    <tr>\n",
       "      <th>1</th>\n",
       "      <td>trn_X_Y.txt</td>\n",
       "      <td>7082756</td>\n",
       "      <td>10019510</td>\n",
       "      <td>238.331</td>\n",
       "      <td>337.1513</td>\n",
       "    </tr>\n",
       "    <tr>\n",
       "      <th>2</th>\n",
       "      <td>tst_X_Y.txt</td>\n",
       "      <td>3072092</td>\n",
       "      <td>10019510</td>\n",
       "      <td>101.8097</td>\n",
       "      <td>332.04873</td>\n",
       "    </tr>\n",
       "  </tbody>\n",
       "</table>\n",
       "</div>"
      ],
      "text/plain": [
       "      Filename Number of points Number of labels Avg. points per label   \n",
       "0      X_Y.pkl         10405317         10405317              327.6417  \\\n",
       "1  trn_X_Y.txt          7082756         10019510               238.331   \n",
       "2  tst_X_Y.txt          3072092         10019510              101.8097   \n",
       "\n",
       "  Avg. labels per points  \n",
       "0               327.6417  \n",
       "1               337.1513  \n",
       "2              332.04873  "
      ]
     },
     "execution_count": 54,
     "metadata": {},
     "output_type": "execute_result"
    }
   ],
   "source": [
    "#| echo: false\n",
    "\n",
    "columns = ['Filename', 'Number of points', 'Number of labels', 'Avg. points per label', 'Avg. labels per points']\n",
    "\n",
    "xy_stat = ['X_Y.pkl', '10405317', '10405317', '327.6417', '327.6417']\n",
    "trn_stat = ['trn_X_Y.txt', '7082756', '10019510', '238.331', '337.1513']\n",
    "tst_stat = ['tst_X_Y.txt', '3072092', '10019510', '101.8097', '332.04873']\n",
    "df = pd.DataFrame([xy_stat, trn_stat, tst_stat], columns=columns)\n",
    "\n",
    "\n",
    "df"
   ]
  },
  {
   "cell_type": "markdown",
   "id": "651bee26",
   "metadata": {},
   "source": [
    "For more detailed information regarding the XC datasets, please refer to the this [link](http://manikvarma.org/downloads/XC/XMLRepository.html)."
   ]
  },
  {
   "cell_type": "markdown",
   "id": "fada6b34",
   "metadata": {},
   "source": [
    "# NLG dataset"
   ]
  },
  {
   "cell_type": "markdown",
   "id": "e8e4bd49",
   "metadata": {},
   "source": [
    "The dataset comprises two distinct files for the purposes of training and testing."
   ]
  },
  {
   "cell_type": "markdown",
   "id": "9be6e97c",
   "metadata": {},
   "source": [
    "* `train_q2q.jsonl :` 7,285,372 queries with its corresponding co-queries for training.\n",
    "* `valid_q2q.jsonl :` 3,119,945 queries with its corresponding co-queries for testing."
   ]
  },
  {
   "cell_type": "markdown",
   "id": "32620bcf",
   "metadata": {},
   "source": [
    "Each entry in the aforementioned files is represented in the following format:"
   ]
  },
  {
   "cell_type": "markdown",
   "id": "4375c2f2",
   "metadata": {},
   "source": [
    "{`\"query\"  :` \"dill herbs\",`\"targets\":` [\"dill herbs\", \"dill\", \"dill weed benefits\", \"dill nutrition facts\", \"dill seed uses\", \"dill water\", \"benefits of dill weed\", \"health benefits of dill weed\", \"dill recipe\", \"is dill good for you\", \"herb dill\", \"uses for dill\", \"dill seeds\", \"dill uses\", \"dill herb uses\", \"dill leaves\", \"dill recipes\", \"what is dill\", \"dill tea\", \"how to use dill\", \"dill seed\", \"dill benefits\", \"benefits of dill\", \"dill health benefits\", \"fresh dill recipes\", \"dill does for men\", \"dill seed benefits\", \"what is dill good for\", \"dill essential oil benefits\", \"dill herb\", \"health benefits of dill\"]}"
   ]
  },
  {
   "cell_type": "markdown",
   "id": "78bc4ab0",
   "metadata": {},
   "source": [
    "The `query` field refers to the input query text, while the `targets` field is a list of co-queries to be predicted."
   ]
  }
 ],
 "metadata": {
  "kernelspec": {
   "display_name": "Python 3",
   "language": "python",
   "name": "python3"
  },
  "language_info": {
   "codemirror_mode": {
    "name": "ipython",
    "version": 3
   },
   "file_extension": ".py",
   "mimetype": "text/x-python",
   "name": "python",
   "nbconvert_exporter": "python",
   "pygments_lexer": "ipython3",
   "version": "3.8.8"
  },
  "toc": {
   "base_numbering": 1,
   "nav_menu": {},
   "number_sections": true,
   "sideBar": true,
   "skip_h1_title": false,
   "title_cell": "Table of Contents",
   "title_sidebar": "Contents",
   "toc_cell": false,
   "toc_position": {},
   "toc_section_display": true,
   "toc_window_display": false
  }
 },
 "nbformat": 4,
 "nbformat_minor": 5
}
