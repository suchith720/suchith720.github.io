{
 "cells": [
  {
   "cell_type": "markdown",
   "id": "183110ed",
   "metadata": {},
   "source": [
    "---\n",
    "title: \"ORCASRelatedQuery Dataset\"\n",
    "author: \"Suchith Prabhu\"\n",
    "date: \"2023-04-17\"\n",
    "description: This blog post aims to provide information regarding the ORCAS dataset.\n",
    "image: \"images/thumbnail.png\"\n",
    "jupyter: python3\n",
    "sidebar: false\n",
    "draft: false\n",
    "\n",
    "---"
   ]
  },
  {
   "cell_type": "code",
   "execution_count": 38,
   "id": "671113e4",
   "metadata": {},
   "outputs": [],
   "source": [
    "#| echo: false\n",
    "\n",
    "import numpy as np\n",
    "import pandas as pd\n",
    "from tqdm.notebook import tqdm\n",
    "from collections import defaultdict\n",
    "import matplotlib.pyplot as plt\n",
    "from PIL import Image"
   ]
  },
  {
   "cell_type": "markdown",
   "id": "fd6313dc",
   "metadata": {},
   "source": [
    "* Dataset can be downloaded from this [link]().\n",
    "* Code for creating the dataset can be accessed [here](https://github.com/suchith720/ORCASRelatedQueries)."
   ]
  },
  {
   "cell_type": "markdown",
   "id": "77a76672",
   "metadata": {},
   "source": [
    "# ORCAS Dataset"
   ]
  },
  {
   "cell_type": "markdown",
   "id": "40f6de47",
   "metadata": {},
   "source": [
    "The ORCAS dataset is a collection of tuples that relate queries to their corresponding relevant documents using a click-based approach. Further details about the dataset can be accessed [here](https://github.com/microsoft/msmarco/blob/master/ORCAS.md).\n",
    "\n",
    "\n",
    "\n",
    "The format of the dataset is as follows:\n",
    "\n",
    "* `QID : 10103699`\n",
    "* `Q   : why is the sky blue`\n",
    "* `DID : D1968574`\n",
    "* `U   : http://www.sciencemadesimple.com/sky_blue.html`"
   ]
  },
  {
   "cell_type": "code",
   "execution_count": 3,
   "id": "c8fc0db4",
   "metadata": {},
   "outputs": [],
   "source": [
    "#| echo: false\n",
    "\n",
    "data_file = \"../data/ORCASRelatedQueries-10M/rawData/orcas.tsv\"\n",
    "df = pd.read_csv(data_file, sep='\\t', header=None)"
   ]
  },
  {
   "cell_type": "markdown",
   "id": "7223d19f",
   "metadata": {},
   "source": [
    "Brief overview of the dataset."
   ]
  },
  {
   "cell_type": "code",
   "execution_count": 4,
   "id": "5a6b7361",
   "metadata": {},
   "outputs": [
    {
     "data": {
      "text/html": [
       "<div>\n",
       "<style scoped>\n",
       "    .dataframe tbody tr th:only-of-type {\n",
       "        vertical-align: middle;\n",
       "    }\n",
       "\n",
       "    .dataframe tbody tr th {\n",
       "        vertical-align: top;\n",
       "    }\n",
       "\n",
       "    .dataframe thead th {\n",
       "        text-align: right;\n",
       "    }\n",
       "</style>\n",
       "<table border=\"1\" class=\"dataframe\">\n",
       "  <thead>\n",
       "    <tr style=\"text-align: right;\">\n",
       "      <th></th>\n",
       "      <th>QID</th>\n",
       "      <th>Query</th>\n",
       "      <th>DID</th>\n",
       "      <th>URL</th>\n",
       "    </tr>\n",
       "  </thead>\n",
       "  <tbody>\n",
       "    <tr>\n",
       "      <th>0</th>\n",
       "      <td>3100858</td>\n",
       "      <td>fund ratings and performance</td>\n",
       "      <td>D3293623</td>\n",
       "      <td>https://money.usnews.com/funds/mutual-funds</td>\n",
       "    </tr>\n",
       "    <tr>\n",
       "      <th>1</th>\n",
       "      <td>4727011</td>\n",
       "      <td>free teaching resources</td>\n",
       "      <td>D1296313</td>\n",
       "      <td>https://www.teacherspayteachers.com/Browse/Pri...</td>\n",
       "    </tr>\n",
       "    <tr>\n",
       "      <th>2</th>\n",
       "      <td>2822267</td>\n",
       "      <td>financial performance of a company</td>\n",
       "      <td>D159176</td>\n",
       "      <td>https://www.investopedia.com/terms/f/financial...</td>\n",
       "    </tr>\n",
       "    <tr>\n",
       "      <th>3</th>\n",
       "      <td>4606488</td>\n",
       "      <td>fitnessgram healthy fitness zone</td>\n",
       "      <td>D1115085</td>\n",
       "      <td>http://www.cde.ca.gov/ta/tg/pf/healthfitzones.asp</td>\n",
       "    </tr>\n",
       "    <tr>\n",
       "      <th>4</th>\n",
       "      <td>8842812</td>\n",
       "      <td>microsoft</td>\n",
       "      <td>D3102692</td>\n",
       "      <td>https://blogs.windows.com/</td>\n",
       "    </tr>\n",
       "    <tr>\n",
       "      <th>5</th>\n",
       "      <td>5943580</td>\n",
       "      <td>bulge in aorta</td>\n",
       "      <td>D67020</td>\n",
       "      <td>https://www.webmd.com/heart-disease/heart-dise...</td>\n",
       "    </tr>\n",
       "    <tr>\n",
       "      <th>6</th>\n",
       "      <td>8050401</td>\n",
       "      <td>water well problems</td>\n",
       "      <td>D570148</td>\n",
       "      <td>http://www.inspectapedia.com/water/Water_Pump_...</td>\n",
       "    </tr>\n",
       "    <tr>\n",
       "      <th>7</th>\n",
       "      <td>8123911</td>\n",
       "      <td>child benefit contact</td>\n",
       "      <td>D1883873</td>\n",
       "      <td>https://www.welfare.ie/en/Pages/273_Child-Bene...</td>\n",
       "    </tr>\n",
       "    <tr>\n",
       "      <th>8</th>\n",
       "      <td>10415703</td>\n",
       "      <td>stx putters</td>\n",
       "      <td>D2889864</td>\n",
       "      <td>http://www.stx.com/</td>\n",
       "    </tr>\n",
       "    <tr>\n",
       "      <th>9</th>\n",
       "      <td>10727767</td>\n",
       "      <td>iphone x prices</td>\n",
       "      <td>D3481922</td>\n",
       "      <td>http://money.cnn.com/2017/09/13/technology/bus...</td>\n",
       "    </tr>\n",
       "  </tbody>\n",
       "</table>\n",
       "</div>"
      ],
      "text/plain": [
       "        QID                               Query       DID  \\\n",
       "0   3100858        fund ratings and performance  D3293623   \n",
       "1   4727011             free teaching resources  D1296313   \n",
       "2   2822267  financial performance of a company   D159176   \n",
       "3   4606488    fitnessgram healthy fitness zone  D1115085   \n",
       "4   8842812                           microsoft  D3102692   \n",
       "5   5943580                      bulge in aorta    D67020   \n",
       "6   8050401                 water well problems   D570148   \n",
       "7   8123911               child benefit contact  D1883873   \n",
       "8  10415703                         stx putters  D2889864   \n",
       "9  10727767                     iphone x prices  D3481922   \n",
       "\n",
       "                                                 URL  \n",
       "0        https://money.usnews.com/funds/mutual-funds  \n",
       "1  https://www.teacherspayteachers.com/Browse/Pri...  \n",
       "2  https://www.investopedia.com/terms/f/financial...  \n",
       "3  http://www.cde.ca.gov/ta/tg/pf/healthfitzones.asp  \n",
       "4                         https://blogs.windows.com/  \n",
       "5  https://www.webmd.com/heart-disease/heart-dise...  \n",
       "6  http://www.inspectapedia.com/water/Water_Pump_...  \n",
       "7  https://www.welfare.ie/en/Pages/273_Child-Bene...  \n",
       "8                                http://www.stx.com/  \n",
       "9  http://money.cnn.com/2017/09/13/technology/bus...  "
      ]
     },
     "execution_count": 4,
     "metadata": {},
     "output_type": "execute_result"
    }
   ],
   "source": [
    "#| echo: false\n",
    "\n",
    "df_sample = df.sample(n=10).reset_index(drop=True)\n",
    "df_sample.columns = ['QID', 'Query', 'DID', 'URL']\n",
    "df_sample"
   ]
  },
  {
   "cell_type": "markdown",
   "id": "5d52bb10",
   "metadata": {},
   "source": [
    "# RelatedQuery Dataset"
   ]
  },
  {
   "cell_type": "markdown",
   "id": "512c20da",
   "metadata": {},
   "source": [
    "This dataset was generated by utilizing the ORCAS query-document bipartite graph by collecting all two-hop neighbors of each query. The queries were then ranked based on the number of different paths leading to each query. The construction of this dataset can be replicated using the code available at this [link](https://github.com/suchith720/ORCASRelatedQueries). Further information regarding the dataset generation process can be found [here](https://suchith720.github.io/posts/research/axel-experiments/)."
   ]
  },
  {
   "cell_type": "code",
   "execution_count": 10,
   "id": "03b2a961",
   "metadata": {},
   "outputs": [],
   "source": [
    "#| echo: false\n",
    "import xclib.data.data_utils as du\n",
    "\n",
    "map_file = \"../data/ORCASRelatedQueries-10M/tmp/query_map.csv\"\n",
    "query_map_df = pd.read_csv(map_file, header=None)\n",
    "query_map = [(row[1][0], row[1][2]) for row in query_map_df.iterrows()]\n",
    "map_data = dict(query_map)\n",
    "\n",
    "q2q_data = du.read_sparse_file(\"../data/ORCASRelatedQueries-10M/data/query2query_graph.txt\")"
   ]
  },
  {
   "cell_type": "markdown",
   "id": "7bd921f9",
   "metadata": {},
   "source": [
    "Please find below a brief overview of the dataset, the first line after the number is the actual query and on the next line following `--` are the list of related queries:"
   ]
  },
  {
   "cell_type": "code",
   "execution_count": 21,
   "id": "6470715d",
   "metadata": {
    "scrolled": false
   },
   "outputs": [
    {
     "name": "stdout",
     "output_type": "stream",
     "text": [
      "1. victoria's secret customer service phone number\n",
      "-- victoria's secret contact number, victoria secret phone number, victoria secret phone number customer service, victoria secret contact number, victoria's secret customer service phone number, debridemnt\n",
      "\n",
      "2. sexual health issues\n",
      "-- sexual health issues, sexual health topics, reproductive health issues, debridemnt\n",
      "\n",
      "3. incubation period for norovirus\n",
      "-- what is the norovirus, noro-virus, noro virus, treating norovirus, norovirus how long does it last, nurovirus, treatment of norovirus, what causes norovirus, d&v, stomach bug contagious period, novus virus, gastric flu nhs, sickness bug, virus sickness, how long does a stomach bug last, sickness and diarrhoea bug, nora viruses 2018, how is norovirus spread nhs, sickness virus, debridemnt\n",
      "\n",
      "4. simpl pay\n",
      "-- pay, simple pay, paysimple, www.simplepay.com, simply pay, paysim, online payment processing, simplepay, paysimple login, simple pay saves, online payment software, simplepaysaves.com, payment processing, www.paysimple.com, paysimply, pay simple mobile, pay simple, simpl pay, paysimple.com, debridemnt\n",
      "\n",
      "5. audio production\n",
      "-- audio production, sound production, debridemnt\n",
      "\n",
      "6. kaltostat dressing\n",
      "-- calcium alginate dressing directions, calcium alginate versus silver alginate, calcium alginate dressing change frequency, what is an alginate dressing, calcium alginate vs silver alginate, seaweed dressing, calcium alginate and aquacel difference, aginate, alginate dressing, difference between silver alginate and calcium alginate, calcium alginate dressing, silver alginate dressing, alginates, alginates dressing, calcium alginate, seaweed dressings for wounds, silver alginate dressing instructions, what is alginate made of, kaltostat, debridemnt\n",
      "\n",
      "7. f ma\n",
      "-- f=ma meaning, f=ma equation, what does f=ma mean, f=m.a, f = ma, f= ma, fnet=ma, f=ma, what is f=ma, f = m*a, f ma, f=m*a, f equals ma, f=mxa, debridemnt\n",
      "\n",
      "8. this is us season schedule\n",
      "-- this is us preview tonight, cbs this is us, this is us series finale, when does this is us air, nbc aftershow, this is us nbc schedule, is the us, next this is us episode, this is us premier 2019, this is us aftershow tonight, will this is us air tonight, nbc, this is us new season 2019, when is next episode of this is us, nbc on demand tv, what night is this is us on, this is us full cast 2019, what day does this is us air, what is this is us about, debridemnt\n",
      "\n",
      "9. current illiteracy rates united states\n",
      "-- literacy rates in america, literacy rate in the usa, current illiteracy rates united states, america's literacy rate, literacy rate in the us, literacy rate in the united states, illiteracy rates, literacy rates in us, illiteracy in the us, us literacy rate, functional illiteracy, u.s. literacy rate, american literacy rate, literacy rate in america, us illiteracy rate by state, literacy rate in us, debridemnt\n",
      "\n",
      "10. mineral processing engineering\n",
      "-- mine engineer, mineral processing, ore processing, mining engineers, mineral engineering, mining engineering, mineral processing engineering, dense media separation, what is mining engineering, mining engineer, mining, mine engineering, debridemnt\n",
      "\n"
     ]
    }
   ],
   "source": [
    "#| echo: false\n",
    "#| panel: input\n",
    "\n",
    "for i, qid in enumerate(np.random.randint(len(map_data), size=10)):\n",
    "    print(f'{i+1}. {map_data[qid]}')\n",
    "    print(\"-- \", end='')\n",
    "    for rqid in q2q_data[qid].indices[:19]:\n",
    "        print(map_data[rqid], \",\", sep=\"\", end=\" \")\n",
    "    print(map_data[20], end=\"\\n\\n\")"
   ]
  },
  {
   "cell_type": "markdown",
   "id": "3715dfe5",
   "metadata": {},
   "source": [
    "Presented below are some of the queries with the least number of co-queries."
   ]
  },
  {
   "cell_type": "code",
   "execution_count": 34,
   "id": "bc1f5b41",
   "metadata": {
    "code_folding": []
   },
   "outputs": [
    {
     "name": "stdout",
     "output_type": "stream",
     "text": [
      "1. dust mite size\n",
      "-- dust mite size\n",
      "\n",
      "2. pentwater michigan rentals\n",
      "-- pentwater michigan rentals\n",
      "\n",
      "3. cottage grove oregon population\n",
      "-- cottage grove oregon population\n",
      "\n",
      "4. what does burdensome mean\n",
      "-- what does burdensome mean\n",
      "\n",
      "5. callaway shafts replacements\n",
      "-- callaway shafts replacements\n",
      "\n",
      "6. what is a mac mini used for\n",
      "-- what is a mac mini used for\n",
      "\n",
      "7. solar rechargeable batteries\n",
      "-- solar rechargeable batteries\n",
      "\n",
      "8. pronographic timeline\n",
      "-- pronographic timeline\n",
      "\n",
      "9. autocad express tools download\n",
      "-- autocad express tools download\n",
      "\n",
      "10. 300 gb\n",
      "-- 300 gb\n",
      "\n"
     ]
    }
   ],
   "source": [
    "#| echo: false\n",
    "#| panel: input\n",
    "\n",
    "neighbours = q2q_data.getnnz(axis=1)\n",
    "sort_idx = np.argsort(neighbours)\n",
    "\n",
    "def query_stat_1(idxs):\n",
    "    for i, idx in enumerate(idxs):\n",
    "        row = q2q_data[idx]\n",
    "        print(f'{i+1}. {map_data[idx]}')\n",
    "        for i, ridx in enumerate(row.indices[:20]):\n",
    "            if i == 0:\n",
    "                print(f'-- {map_data[ridx]}', end='')\n",
    "            else:\n",
    "                print(f', {map_data[ridx]}', end='')\n",
    "        print(end='\\n\\n')\n",
    "        \n",
    "query_stat_1(sort_idx[:10])"
   ]
  },
  {
   "cell_type": "markdown",
   "id": "2f57e590",
   "metadata": {},
   "source": [
    "Presented below are some of the queries with the highest number of co-queries."
   ]
  },
  {
   "cell_type": "code",
   "execution_count": 35,
   "id": "ae9169d7",
   "metadata": {},
   "outputs": [
    {
     "name": "stdout",
     "output_type": "stream",
     "text": [
      "1. youtube\n",
      "-- by yahoo, live cnn news, mfacebookcom, apple 10 max, .io unblocked, face blook, apaple, Ð¾Ð¾Ð½, downlond, amexsavings, american express credit card customer service, ryan. toy, ericanexpress, apple \\x5c, www.face book.com, mankreft, d.facebook, how to change youtube url name, toys and me on youtube, wells fargo home rebate card\n",
      "\n",
      "2. y\n",
      "-- by yahoo, www.bbt.comchecks, apple 10 max, .io unblocked, gmaildownload, apaple, bluebook price, y chromosome genes, la time, shutterfly site, www.gamil.com sign in, weebily, mg.mail.yahoo.com login, khan academy classroom, apple \\x5c, bbb bank, mue torrent, ako enterprise email link, ubunyu, check my ako account\n",
      "\n",
      "3. email\n",
      "-- by yahoo, faily mail, mail com email, gmaildownload, outlook ogin, www.gamil.com sign in, mg.mail.yahoo.com login, aller sur mon compte icloud, osu one source, i cloud accesso, daily l, www.outlook.lcom, myatt.mail, att.net login home, oiutlo, https://mail.com/, googlemail log on uk, daily mail sign in uk, contact u, ako enterprise email link\n",
      "\n",
      "4. www.\n",
      "-- mfacebookcom, https://getpocket.com, face blook, govt mot, ups.com/addcheer, post office moving, office home and office, myhumana login, skype for busineess, skype for business basic download free, hire someone, irs.gov/where is my refund, us post office online, gov/tax vehicle, fidelity retirement log in, www.face book.com, ypwork, mot hi, labor stats, play chinese chess\n",
      "\n",
      "5. www\n",
      "-- accounts.microsoft xbox, mfacebookcom, https://getpocket.com, face blook, new cars buy, govt mot, ups.com/addcheer, post office moving, outlook ogin, skype for busineess, word para windows, skype for business basic download free, hire someone, microsoft.online.com login, ssa .gov, irs.gov/where is my refund, us post office online, gov/tax vehicle, fidelity retirement log in, www.face book.com\n",
      "\n",
      "6. mail\n",
      "-- by yahoo, faily mail, mail com email, gmaildownload, ups.com/addcheer, post office moving, outlook ogin, www.gamil.com sign in, mg.mail.yahoo.com login, aller sur mon compte icloud, us post office online, i cloud accesso, daily l, www.outlook.lcom, myatt.mail, att.net login home, oiutlo, https://mail.com/, googlemail log on uk, daily mail sign in uk\n",
      "\n",
      "7. google\n",
      "-- faily mail, .co.in websites, google drive ãã¦ã³ãã¼ã windows, google drive pc, gmaildownload, gmail g suite, data collection, www.speedtest.net vodafone, update aadhaar details online, install google earth free download, what's my wifi speed, www.gamil.com sign in, google insight speed test, speedetest.net, daily l, +google.com, google chrome dawonload, googlemail log on uk, speedtest rcn, daily mail sign in uk\n",
      "\n",
      "8. s\n",
      "-- phoenix arizone, s!, live cnn news, aaaas, xbox live messages on pc, papa john's superhero pizza, haaain, apple 10 max, moody's bond ratings, sign in xbox live, apaple, gmail g suite, chicago band members dead, downlond, www.speedtest.net vodafone, papa john's near me delivery, what's my wifi speed, watsapp descargar, u ofmn, sprouts online ordering\n",
      "\n",
      "9. weather\n",
      "-- sunderland weather forecast, wheather in nj, weather bc, oklahoma city weather today, nampa news, current weather conditions in charlotte nc, rocklin weather forecast, charleston south carolina weather in march, hurricane september 2017, accuweather 15143 hourly, wisconsin dells 10 day forecast, what's the weather right now, saratoga weather forecast, temperature fort lauderdale, dallas texas flooding, weather atlanta, ga, nws knoxville, meteireann, las vegas weather today, current weather in north dakota\n",
      "\n",
      "10. bing\n",
      "-- jv lm, by yahoo, live cnn news, mpn competencies, outlook ogin, pa cash 5, www.speedtest.net vodafone, browser check, what's my wifi speed, vindicator, pncbank.com personal bankinglog on, speedetest.net, osu one source, costco online shopping catalog, www.outlook.lcom, oiutlo, redding ca news today, speedtest rcn, dominos wasilla, souix falls\n",
      "\n"
     ]
    }
   ],
   "source": [
    "#| echo: false\n",
    "#| panel: input\n",
    "\n",
    "query_stat_1(sort_idx[-10:])"
   ]
  },
  {
   "cell_type": "markdown",
   "id": "3ce2c085",
   "metadata": {},
   "source": [
    "Presented below are some of the queries with an average number of co-queries."
   ]
  },
  {
   "cell_type": "code",
   "execution_count": 36,
   "id": "80e10baf",
   "metadata": {},
   "outputs": [
    {
     "name": "stdout",
     "output_type": "stream",
     "text": [
      "1. city of redmond wa\n",
      "-- act, redmond california, redmond washington microsoft, redmond or, redmond oregon, redmon, redmond wa 98052, erdmond, city of redmond or, redding washington, city of, redman wa, redmond ca, city of redmond permit center, microsoft washington state, ha, redmond microsoft, construction hours, redmond population, redmond pool\n",
      "\n",
      "2. dumbo 1941\n",
      "-- dumbo crows, dumbo walt disney, dumbo ending, dumbo film wiki, dumbo mother, dumbo original film, dumbo animated film, dumbo wiki, name of mouse in dumbo, dumbo 1941, story of dumbo, dumbo the elephant full movie, dumbo animated, does dumbo die, dumbo animated movie, udmbo, dumbo vhs, crows dumbo, dumbo storyline, does dumbo's mom die\n",
      "\n",
      "3. ear wash flush\n",
      "-- ear flush, ear irrigator, ear syringing procedure, ear rinse, ear flushing, ear syringe, ear washer, ear wash, how to clean ears out, ear wax irrigation, ear irrigation system, ear irrigation, ear wash flush, how to get water out of ear, how to unplug ears, ear wash kit, peroxide to clean ear wax, ear wax removal doctor's office, ear wax removal, flush ears\n",
      "\n",
      "4. the institute of internal auditors\n",
      "-- auditing qualifications uk, iia.com, internal audit qualification, www.iia, internal auditor courses, iia code of ethics, institute internal auditors, institute of internal auditors uk, iia.org, certified internal auditor certification, iia standards pdf, internal auditors association, cia iia, internal audit institute, the iia, iia uk, iia website, institute of internal auditing, international standards for the professional practice of internal auditing, iia uk and ireland\n",
      "\n",
      "5. highline canvas\n",
      "-- highline collge, higline college, highline email, highline community college washington, canvas.highline, highline bookstore, highline canvas login, highline student email, highline colleg, highline classes, www.highline.com, highlin, highline, highline canvas, highline college registration, canvas highline login, highline college des moines wa, highline cc, highline college canvas log in, highli\n",
      "\n",
      "6. current minimum wage in illinois\n",
      "-- what is the minimum wage in illinois 2019, state of illinois minimum wage 2019, state of illinois minimum wage, illinois minimum wage 2019, minimum wage by year, minimum wage il, what is minimum wage in il, illinois state minimum wage 2019, minimum wage illinois 2018, illinois minimum wage increase schedule, minimum wage 1972, what is illinois minimum wage for 2019, il minimum wage 2020, what is illinois minimum wage, what is minimum wage in illinois, what is the minimum wage in illinois, il minimum wage increase 2019, minimum wage by year chart, current minimum wage in illinois, what is minimum wage in illinois 2019\n",
      "\n",
      "7. over the range microwaves\n",
      "-- over range microwave oven, over stove microwave oven, over the stove microwave ovens, best microwave vent hood combo, best over the range microwaves, above the stove microwave ovens, microwave ovens over the range, over the range microwave reviews, best over range microwave, microwave reviews 2018, best over range microwaves 2018, best over the stove microwave, best over the range microwave ovens, over the range microwave ovens, best microwave oven, best rated microwave, what is the best over the range microwave, top rated microwaves 2018, top rated over the range microwaves 2018, top rated microwaves\n",
      "\n",
      "8. asthma medication chart\n",
      "-- asthma pumps, medication for asthma, asthmatic, best treatment for asthma, routine care for asthma, inhalers asthma, best asthma treatment, drugs to treat asthma, saba inhaler, inhaler medicine, asthma drug, asthma drugs, medicines for asthma, asthma inhalers side effects, asthma medicine, treatments of asthma, nebulizer medications, asthma cures, inhalers for asthma uk, side effects of fostair inhaler\n",
      "\n",
      "9. roasting peppers\n",
      "-- roasting red peppers in oven, baked peppers, roasted pepper recipe, best way to roast peppers, roasted sweet peppers, roast peppers recipe, roast peppers in oven, roasted peppers in oven, roasted red pepper, roasted pepper, how to roast peppers in oven, roasted red peppers oven, how to roast peppers, roast red peppers, how to roast a red pepper, how to roast bell peppers, recipe for roasted peppers, roasted red bell pepper, roasted bell peppers oven, roasting peppers in oven\n",
      "\n"
     ]
    }
   ],
   "source": [
    "#| echo: false\n",
    "#| panel: input\n",
    "\n",
    "query_stat_1(sort_idx[5202658-5:5202658+4])"
   ]
  },
  {
   "cell_type": "markdown",
   "id": "78a0196f",
   "metadata": {},
   "source": [
    "Three versions of the dataset have been created by the downsampling the orignal raw dataset by randomly removing tuples from the query-to-document dataset.\n",
    "\n",
    "Following are the three versions of the dataset:\n",
    "\n",
    "1. `ORCASRelatedQueries-10M ` : created using the raw dump.\n",
    "2. `ORCASRelatedQueries-1M  ` : created by randomly sampling 0.1 tuples from the raw dump. \n",
    "3. `ORCASRelatedQueries-500K` : created by randomly sampling 0.05 tuples from the raw dump."
   ]
  },
  {
   "cell_type": "markdown",
   "id": "1b0441ee",
   "metadata": {},
   "source": [
    "All the versions of the dataset are stored in the same directory format:\n",
    "\n",
    "+ `data/   `\n",
    "    * `query2query_graph.txt  :` full query-to-query dataset without the train-test split.\n",
    "\n",
    "+ `images/ `\n",
    "    * `X_Y_label_dist.png     :` label distribution of the __data/query2query_graph.txt__ file.<br>\n",
    "    * `trn_X_Y_label_dist.png :` label distribution of the __xc/trn_X_Y.txt__ file.<br>\n",
    "    * `tst_X_Y_label_dist.png :` label distribution of the __xc/tst_X_Y.txt__ file.\n",
    "\n",
    "+ `rawData/`\n",
    "    * `orcas.tsv              :` raw dump of query-to-document relations.\n",
    "\n",
    "+ `tmp/    `\n",
    "    * `query2doc_graph.txt    :` query-to-document relations stored in adjacency list format extracted from \"rawData/orcas.tsv\" \n",
    "    * `query_map.csv          :` \n",
    "\n",
    "+ `xc/.    `\n",
    "    * `trn_X_Y.txt            :` training data in XC format.<br>\n",
    "    * `tst_X_Y.txt            :` testing data in XC format. <br>\n",
    "    * `train_map.txt          :` mapping from query ID to query text for training data points.<br>\n",
    "    * `test_map.txt           :` mapping from query ID to query text for testing data points.<br>\n",
    "    * `label_map.txt          :` mapping from query ID to query text for label data points.\n",
    "    * `filter_labels_train.txt:` filter file for testing data.<br>\n",
    "    * `filter_labels_test.txt :` filter file for training data."
   ]
  },
  {
   "cell_type": "markdown",
   "id": "fd6c1e9e",
   "metadata": {},
   "source": [
    "## ORCASRelatedQueries-10M"
   ]
  },
  {
   "cell_type": "code",
   "execution_count": 47,
   "id": "ab912b50",
   "metadata": {
    "scrolled": true
   },
   "outputs": [
    {
     "name": "stdout",
     "output_type": "stream",
     "text": [
      "** X_Y : \n",
      "   No. of datapoints  No. of labels  ...  Max. neighbours  Min. neighbours\n",
      "0           10405317       10405317  ...            88030                1\n",
      "\n",
      "[1 rows x 6 columns]\n",
      "              5         10        50        100       1000\n",
      "fraction  0.069662  0.134415  0.427165  0.584897  0.927086\n",
      "** trn_X_Y : \n",
      "   No. of datapoints  No. of labels  ...  Max. neighbours  Min. neighbours\n",
      "0            7082756       10019510  ...            88025                1\n",
      "\n",
      "[1 rows x 6 columns]\n",
      "             5         10        50        100       1000\n",
      "fraction  0.05047  0.111658  0.411021  0.573027  0.924949\n",
      "** tst_X_Y : \n",
      "   No. of datapoints  No. of labels  ...  Max. neighbours  Min. neighbours\n",
      "0            3072092       10019510  ...            73566                1\n",
      "\n",
      "[1 rows x 6 columns]\n",
      "              5         10        50        100       1000\n",
      "fraction  0.054886  0.120603  0.418129  0.578623  0.926072\n",
      "Lowest co-queries : \n",
      "* dust mite size\n",
      "- dust mite size\n",
      ", dust mite size\n",
      "* pentwater michigan rentals\n",
      "- pentwater michigan rentals\n",
      ", pentwater michigan rentals\n",
      "* cottage grove oregon population\n",
      "- cottage grove oregon population\n",
      ", cottage grove oregon population\n",
      "* what does burdensome mean\n",
      "- what does burdensome mean\n",
      ", what does burdensome mean\n",
      "* callaway shafts replacements\n",
      "- callaway shafts replacements\n",
      ", callaway shafts replacements\n",
      "\n",
      "Highest co-queries : \n",
      "* mail\n",
      "- by yahoo\n",
      ", by yahoo, faily mail, mail com email, gmaildownload, ups.com/addcheer, post office moving, outlook ogin, www.gamil.com sign in, mg.mail.yahoo.com login, aller sur mon compte icloud\n",
      "* google\n",
      "- faily mail\n",
      ", faily mail, .co.in websites, google drive ãã¦ã³ãã¼ã windows, google drive pc, gmaildownload, gmail g suite, data collection, www.speedtest.net vodafone, update aadhaar details online, install google earth free download\n",
      "* s\n",
      "- phoenix arizone\n",
      ", phoenix arizone, s!, live cnn news, aaaas, xbox live messages on pc, papa john's superhero pizza, haaain, apple 10 max, moody's bond ratings, sign in xbox live\n",
      "* weather\n",
      "- sunderland weather forecast\n",
      ", sunderland weather forecast, wheather in nj, weather bc, oklahoma city weather today, nampa news, current weather conditions in charlotte nc, rocklin weather forecast, charleston south carolina weather in march, hurricane september 2017, accuweather 15143 hourly\n",
      "* bing\n",
      "- jv lm\n",
      ", jv lm, by yahoo, live cnn news, mpn competencies, outlook ogin, pa cash 5, www.speedtest.net vodafone, browser check, what's my wifi speed, vindicator\n",
      "\n",
      "Average co-queries : \n",
      "* city of redmond wa\n",
      "- act\n",
      ", act, redmond california, redmond washington microsoft, redmond or, redmond oregon, redmon, redmond wa 98052, erdmond, city of redmond or, redding washington\n",
      "* dumbo 1941\n",
      "- dumbo crows\n",
      ", dumbo crows, dumbo walt disney, dumbo ending, dumbo film wiki, dumbo mother, dumbo original film, dumbo animated film, dumbo wiki, name of mouse in dumbo, dumbo 1941\n",
      "* ear wash flush\n",
      "- ear flush\n",
      ", ear flush, ear irrigator, ear syringing procedure, ear rinse, ear flushing, ear syringe, ear washer, ear wash, how to clean ears out, ear wax irrigation\n",
      "* the institute of internal auditors\n",
      "- auditing qualifications uk\n",
      ", auditing qualifications uk, iia.com, internal audit qualification, www.iia, internal auditor courses, iia code of ethics, institute internal auditors, institute of internal auditors uk, iia.org, certified internal auditor certification\n",
      "* highline canvas\n",
      "- highline collge\n",
      ", highline collge, higline college, highline email, highline community college washington, canvas.highline, highline bookstore, highline canvas login, highline student email, highline colleg, highline classes\n",
      "* current minimum wage in illinois\n",
      "- what is the minimum wage in illinois 2019\n",
      ", what is the minimum wage in illinois 2019, state of illinois minimum wage 2019, state of illinois minimum wage, illinois minimum wage 2019, minimum wage by year, minimum wage il, what is minimum wage in il, illinois state minimum wage 2019, minimum wage illinois 2018, illinois minimum wage increase schedule\n",
      "* over the range microwaves\n",
      "- over range microwave oven\n",
      ", over range microwave oven, over stove microwave oven, over the stove microwave ovens, best microwave vent hood combo, best over the range microwaves, above the stove microwave ovens, microwave ovens over the range, over the range microwave reviews, best over range microwave, microwave reviews 2018\n",
      "* asthma medication chart\n",
      "- asthma pumps\n",
      ", asthma pumps, medication for asthma, asthmatic, best treatment for asthma, routine care for asthma, inhalers asthma, best asthma treatment, drugs to treat asthma, saba inhaler, inhaler medicine\n",
      "* roasting peppers\n",
      "- roasting red peppers in oven\n",
      ", roasting red peppers in oven, baked peppers, roasted pepper recipe, best way to roast peppers, roasted sweet peppers, roast peppers recipe, roast peppers in oven, roasted peppers in oven, roasted red pepper, roasted pepper\n",
      "* why is halloween called halloween\n",
      "- american halloween\n",
      ", american halloween, facts about halloween, halloween celebration, history behind halloween, why does halloween exist, what is halloween, what is halloween?, halloween, the history of halloween, why is halloween celebrated\n",
      "\n",
      "\n"
     ]
    }
   ],
   "source": [
    "#| echo: false\n",
    "#| output: false\n",
    "\n",
    "with open(\"../programs/orcas/data/ORCASRelatedQueries-10M.txt\", \"r\") as f:\n",
    "    print(f.read())"
   ]
  },
  {
   "cell_type": "markdown",
   "id": "7bc6817f",
   "metadata": {},
   "source": [
    "The following statistics provide an overview of the ORCASRelatedQueries-10M:"
   ]
  },
  {
   "cell_type": "markdown",
   "id": "4baf8ab4",
   "metadata": {},
   "source": [
    "| filename  | No. of datapoints  | No. of labels | Avg. labels per datapoint |  Avg. datapoints per label | Max. neighbours | Min. neighbours |\n",
    "|---|---|---|---|---|---|---|\n",
    "| query2query_graph.txt      | 10405317  |  10405317 |  327.641714 | 327.641714 | 88030 | 1 |\n",
    "| trn_X_Y.txt  |  7082756 |  10019510 |  337.151357 |  238.331096 | 88025 | 1 |\n",
    "| tst_X_Y.txt  | 3072092 | 10019510  |  332.048731  |  101.809794 | 73566 | 1 |"
   ]
  },
  {
   "cell_type": "markdown",
   "id": "82945d78",
   "metadata": {},
   "source": [
    "The table below presents information on the percentage of queries with co-queries less than or equal to a given threshold."
   ]
  },
  {
   "cell_type": "markdown",
   "id": "a21aa9a9",
   "metadata": {},
   "source": [
    "| filename  | 5 queries | 10 queries | 50 queries | 100 queries | 1000 queries |\n",
    "|---|---|---|---|---|---|\n",
    "| query2query_graph.txt | 0.069662 | 0.134415 | 0.427165 | 0.584897 | 0.927086 |\n",
    "| trn_X_Y.txt  |   0.05047 | 0.111658 | 0.411021 | 0.573027 | 0.924949 |\n",
    "| tst_X_Y.txt  |   0.054886 | 0.120603 | 0.418129 | 0.578623 | 0.926072 |"
   ]
  },
  {
   "cell_type": "markdown",
   "id": "51d139e8",
   "metadata": {},
   "source": [
    "The distribution of co-queries is displayed below."
   ]
  },
  {
   "cell_type": "code",
   "execution_count": 41,
   "id": "92686d7c",
   "metadata": {},
   "outputs": [
    {
     "data": {
      "image/png": "[encoded data removed]",
      "text/plain": [
       "<PIL.PngImagePlugin.PngImageFile image mode=RGBA size=1500x700>"
      ]
     },
     "execution_count": 41,
     "metadata": {},
     "output_type": "execute_result"
    }
   ],
   "source": [
    "#| echo: false\n",
    "#| fig-cap : ORCASRelatedQueries-10M label distribution among data-points.\n",
    "\n",
    "Image.open(\"../data/ORCASRelatedQueries-10M/images/X_Y_label_dist.png\")"
   ]
  },
  {
   "cell_type": "markdown",
   "id": "92faac96",
   "metadata": {},
   "source": [
    "## ORCASRelatedQueries-1M"
   ]
  },
  {
   "cell_type": "code",
   "execution_count": 50,
   "id": "0986164e",
   "metadata": {
    "scrolled": true
   },
   "outputs": [
    {
     "name": "stdout",
     "output_type": "stream",
     "text": [
      "** X_Y : \n",
      "   No. of datapoints  No. of labels  ...  Max. neighbours  Min. neighbours\n",
      "0            1700719        1700719  ...             2191                1\n",
      "\n",
      "[1 rows x 6 columns]\n",
      "              5         10        50        100      1000\n",
      "fraction  0.480854  0.645405  0.896309  0.948241  0.99924\n",
      "** trn_X_Y : \n",
      "   No. of datapoints  No. of labels  ...  Max. neighbours  Min. neighbours\n",
      "0             833585        1201266  ...             2191                1\n",
      "\n",
      "[1 rows x 6 columns]\n",
      "              5         10       50        100       1000\n",
      "fraction  0.287786  0.497854  0.85183  0.925955  0.998898\n",
      "** tst_X_Y : \n",
      "   No. of datapoints  No. of labels  ...  Max. neighbours  Min. neighbours\n",
      "0             410917        1201266  ...             2155                1\n",
      "\n",
      "[1 rows x 6 columns]\n",
      "              5         10        50       100       1000\n",
      "fraction  0.357581  0.560997  0.871687  0.93606  0.999092\n",
      "Lowest co-queries : \n",
      "* bonner\n",
      "- bonner\n",
      ", bonner\n",
      "* dr seuss font generator\n",
      "- dr seuss font generator\n",
      ", dr seuss font generator\n",
      "* side effects of tegretol medication\n",
      "- side effects of tegretol medication\n",
      ", side effects of tegretol medication\n",
      "* scholastic excellence\n",
      "- scholastic excellence\n",
      ", scholastic excellence\n",
      "* what is aggregates\n",
      "- what is aggregates\n",
      ", what is aggregates\n",
      "\n",
      "Highest co-queries : \n",
      "* outlook.com sign in\n",
      "- webmail office\n",
      ", webmail office, outlook 365 log on, microsoft account erstellen, outlokk, outlook for business login, https://account.microsoft.com/account/outlook, houtlook.com, toutlook, o365 email login, the outlook\n",
      "* login to outlook.com\n",
      "- webmail office\n",
      ", webmail office, outlook 365 log on, microsoft account erstellen, outlokk, outlook for business login, https://account.microsoft.com/account/outlook, houtlook.com, toutlook, o365 email login, the outlook\n",
      "* us\n",
      "- usps mail change of address\n",
      ", usps mail change of address, us postal money order verification, webmail army enterprise, us bank lgin, www.us.armt.mil, sign into owa email army, track my package, garageband, united ireland, www.webmail.mil/owa\n",
      "* outlooksignin\n",
      "- webmail office\n",
      ", webmail office, outlook 365 log on, open outlook inbox, microsoft account erstellen, outlokk, outlook for business login, correo hotmail.com, https://account.microsoft.com/account/outlook, houtlook.com, toutlook\n",
      "* gmail sign in\n",
      "- hotnail.com\n",
      ", hotnail.com, http://www.gmail./, create new email address free, microsoft account erstellen, mail.com sign in, google male, https://account.microsoft.com/account/outlook, gmaildownload, toutlook, window email\n",
      "\n",
      "Average co-queries : \n",
      "* sialadenosis\n",
      "- submandibular sialadenitis\n",
      ", submandibular sialadenitis, sialadenosis, saldinitis, right submandibular gland swelling, salidentis, submandibular gland swollen\n",
      "* brilinta package insert\n",
      "- ticagrelor cost\n",
      ", ticagrelor cost, brilinta patient assistance, prolanta, brilinta package insert, brintilla, belinta\n",
      "* composite wood\n",
      "- composite wood\n",
      ", composite wood, best decking material, best decking, best deck material, deck materials options, best composite decking material 2018\n",
      "* medical terminology test\n",
      "- medical terminology test\n",
      ", medical terminology test, medical terminology practice, terminology test, mymedicalterminologylab, epicostal, medical terms quizlet\n",
      "* how many ouces in a quart\n",
      "- how many in a quart\n",
      ", how many in a quart, how many ouces in a quart, how many oz make a quart, how much in a quart, how many oz in a quart, how many ounces in a quart of water\n",
      "* i want to cancel my subscription\n",
      "- how to cancel hims subscription\n",
      ", how to cancel hims subscription, whoeasy cancellation, primezy, how to cancel subscription, i want to cancel my subscription, please cancel my account\n",
      "* alexia software\n",
      "- update echo dot\n",
      ", update echo dot, how do i update alexa, alexa manual update, how do i update alexa app, alexia software, update my alexa app\n",
      "* diagram of the greenhouse effect\n",
      "- how do greenhouse gases affect climate\n",
      ", how do greenhouse gases affect climate, green house gas effect, diagram of the greenhouse effect, what is greenhouse, describe the greenhouse effect, greenhouse gass\n",
      "* ynhh careers login\n",
      "- ynhh.org/jobs\n",
      ", ynhh.org/jobs, yale.edu/jobs, ynhh careers login, jobs at yale, yale new haven hospital employee portal, yale careers\n",
      "* is john malkovich gay\n",
      "- john malkovich wife\n",
      ", john malkovich wife, is john malkovich gay, malkovich john, is john malkovich married, john malcovitch, john malkovich\n",
      "\n",
      "\n"
     ]
    }
   ],
   "source": [
    "#| echo: false\n",
    "#| output: false\n",
    "\n",
    "with open(\"../programs/orcas/data/ORCASRelatedQueries-1M.txt\", \"r\") as f:\n",
    "    print(f.read())"
   ]
  },
  {
   "cell_type": "markdown",
   "id": "b9a9bb65",
   "metadata": {},
   "source": [
    "The following statistics provide an overview of the ORCASRelatedQueries-1M:"
   ]
  },
  {
   "cell_type": "markdown",
   "id": "63f2c5dc",
   "metadata": {},
   "source": [
    "| filename  | No. of datapoints  | No. of labels | Avg. labels per datapoint |  Avg. datapoints per label | Max. neighbours | Min. neighbours |\n",
    "|---|---|---|---|---|---|---|\n",
    "| query2query_graph.txt      | 1700719  |  1700719 |  24.193609 | 24.193609 | 2191 | 1 |\n",
    "| trn_X_Y.txt  |  833585 |  1201266 |  33.595666 |  23.312774 | 2191 | 1 |\n",
    "| tst_X_Y.txt  |  410917 | 1201266  |  29.516002  |  10.096537 | 2155 | 1 |"
   ]
  },
  {
   "cell_type": "markdown",
   "id": "cb4cf17b",
   "metadata": {},
   "source": [
    "The table below presents information on the percentage of queries with co-queries less than or equal to a given threshold."
   ]
  },
  {
   "cell_type": "markdown",
   "id": "65255443",
   "metadata": {},
   "source": [
    "| filename  | 5 queries | 10 queries | 50 queries | 100 queries | 1000 queries |\n",
    "|---|---|---|---|---|---|\n",
    "| query2query_graph.txt | 0.480854 | 0.645405 | 0.896309 | 0.948241 | 0.99924 |\n",
    "| trn_X_Y  |   0.379675 | 0.287786 | 0.497854 | 0.85183 | 0.925955 | 0.998898 |\n",
    "| tst_X_Y  |   0.480797 | 0.357581 | 0.560997 | 0.871687 | 0.93606 | 0.999092 |"
   ]
  },
  {
   "cell_type": "markdown",
   "id": "c5c9e2de",
   "metadata": {},
   "source": [
    "The distribution of co-queries is displayed below."
   ]
  },
  {
   "cell_type": "code",
   "execution_count": 45,
   "id": "f2218a06",
   "metadata": {
    "code_folding": []
   },
   "outputs": [
    {
     "data": {
      "image/png": "[encoded data removed]",
      "text/plain": [
       "<PIL.PngImagePlugin.PngImageFile image mode=RGBA size=1500x700>"
      ]
     },
     "execution_count": 45,
     "metadata": {},
     "output_type": "execute_result"
    }
   ],
   "source": [
    "#| echo: false\n",
    "#| fig-cap : ORCASRelatedQueries-1M label distribution among data-points.\n",
    "\n",
    "Image.open(\"../data/ORCASRelatedQueries-1M/images/X_Y_label_dist.png\")"
   ]
  },
  {
   "cell_type": "markdown",
   "id": "b7efac12",
   "metadata": {},
   "source": [
    "## ORCASRelatedQueries-500K"
   ]
  },
  {
   "cell_type": "code",
   "execution_count": 49,
   "id": "50c3a43d",
   "metadata": {
    "collapsed": true
   },
   "outputs": [
    {
     "name": "stdout",
     "output_type": "stream",
     "text": [
      "** X_Y : \n",
      "   No. of datapoints  No. of labels  ...  Max. neighbours  Min. neighbours\n",
      "0             890683         890683  ...              887                1\n",
      "\n",
      "[1 rows x 6 columns]\n",
      "              5         10        50        100   1000\n",
      "fraction  0.640011  0.779279  0.950524  0.981373   1.0\n",
      "** trn_X_Y : \n",
      "   No. of datapoints  No. of labels  ...  Max. neighbours  Min. neighbours\n",
      "0             344524         514971  ...              887                1\n",
      "\n",
      "[1 rows x 6 columns]\n",
      "              5         10        50        100   1000\n",
      "fraction  0.379675  0.603778  0.910738  0.966417   1.0\n",
      "** tst_X_Y : \n",
      "   No. of datapoints  No. of labels  ...  Max. neighbours  Min. neighbours\n",
      "0             184473         514971  ...              835                1\n",
      "\n",
      "[1 rows x 6 columns]\n",
      "              5         10        50       100   1000\n",
      "fraction  0.480797  0.681644  0.927946  0.97282   1.0\n",
      "Lowest co-queries : \n",
      "* oligosaccharides vs polysaccharides\n",
      "- oligosaccharides vs polysaccharides\n",
      ", oligosaccharides vs polysaccharides\n",
      "* how fast is sea level rising\n",
      "- how fast is sea level rising\n",
      ", how fast is sea level rising\n",
      "* novofine 30g\n",
      "- novofine 30g\n",
      ", novofine 30g\n",
      "* mannitol sugar\n",
      "- mannitol sugar\n",
      ", mannitol sugar\n",
      "* bone contusion healing time\n",
      "- bone contusion healing time\n",
      ", bone contusion healing time\n",
      "\n",
      "Highest co-queries : \n",
      "* outloook log in\n",
      "- outlook state email\n",
      ", outlook state email, acont, outool.com, email hotmail outlook, microsoft.com/rewards/login, hotmail ou, login to your microsoft account, puitlook, login outlook 365 email, onmicrosoft\n",
      "* http://microsoft.login.com/\n",
      "- outlook state email\n",
      ", outlook state email, acont, outool.com, email hotmail outlook, microsoft.com/rewards/login, hotmail ou, login to your microsoft account, puitlook, login outlook 365 email, onmicrosoft\n",
      "* outlook.com sigh in\n",
      "- outlook state email\n",
      ", outlook state email, acont, outool.com, email hotmail outlook, microsoft.com/rewards/login, hotmail ou, login to your microsoft account, puitlook, login outlook 365 email, onmicrosoft\n",
      "* outlppk\n",
      "- outlook state email\n",
      ", outlook state email, outool.com, email hotmail outlook, create a microsoft email address, microsoft account creating, https://mail.live.com, hotmail ou, microsoft.account.sign in, sigh in, puitlook\n",
      "* outlook web app sign in\n",
      "- outlook state email\n",
      ", outlook state email, outool.com, email hotmail outlook, add signature in outlook, create a microsoft email address, microsoft account creating, https://mail.live.com, hotmail ou, microsoft.account.sign in, sigh in\n",
      "\n",
      "Average co-queries : \n",
      "* principle of beneficence\n",
      "- principle of beneficence\n",
      ", principle of beneficence, beneficence nonmaleficence, beneficence in nursing ethics\n",
      "* god calls us by name\n",
      "- god calls us by name\n",
      ", god calls us by name, i am bible, what does god think of me\n",
      "* nist cyber\n",
      "- nist cyber\n",
      ", nist cyber, cyber framework, cybersecurity frameworks\n",
      "* gce as level\n",
      "- gce as level\n",
      ", gce as level, list of a levels, gce advanced level\n",
      "* passaic county new jersey\n",
      "- passaic county jail\n",
      ", passaic county jail, passaic county new jersey, passaic county freeholders\n",
      "* body measurements\n",
      "- body measurements\n",
      ", body measurements, average height and weight, average height for men in america\n",
      "* state of colorado license renewal\n",
      "- state of colorado license renewal\n",
      ", state of colorado license renewal, official site colorado dmv license renewal, dmv driver license renewal\n",
      "* qtc prolongation\n",
      "- qtc prolongation\n",
      ", qtc prolongation, citalopram and omeprazole, citalopram\n",
      "* how do you get a book published\n",
      "- how do you get a book published\n",
      ", how do you get a book published, find a book publisher, how to get book published\n",
      "* types of doctors specialists\n",
      "- type of doctors\n",
      ", type of doctors, types of doctors specialists, kind of doctors\n",
      "\n",
      "\n"
     ]
    }
   ],
   "source": [
    "#| echo: false\n",
    "#| output: false\n",
    "\n",
    "with open(\"../programs/orcas/data/ORCASRelatedQueries-500K.txt\", \"r\") as f:\n",
    "    print(f.read())"
   ]
  },
  {
   "cell_type": "markdown",
   "id": "fccadf86",
   "metadata": {},
   "source": [
    "The following statistics provide an overview of the ORCASRelatedQueries-500K:"
   ]
  },
  {
   "cell_type": "markdown",
   "id": "2b43b122",
   "metadata": {},
   "source": [
    "| filename  | No. of datapoints  | No. of labels | Avg. labels per datapoint |  Avg. datapoints per label | Max. neighbours | Min. neighbours |\n",
    "|---|---|---|---|---|---|---|\n",
    "| query2query_graph.txt      | 890683  |  890683 |  12.12764 | 12.12764 | 887 | 1 |\n",
    "| trn_X_Y.txt  |  344524 |  514971 |  20.309325 |  13.58727 | 887 | 1 |\n",
    "| tst_X_Y.txt  |  184473 | 184473  |  17.004689  |  6.091423 | 835 | 1 |"
   ]
  },
  {
   "cell_type": "markdown",
   "id": "d0975e86",
   "metadata": {},
   "source": [
    "The table below presents information on the percentage of queries with co-queries less than or equal to a given threshold."
   ]
  },
  {
   "cell_type": "markdown",
   "id": "a5c96052",
   "metadata": {},
   "source": [
    "| filename  | 5 queries | 10 queries | 50 queries | 100 queries | 1000 queries |\n",
    "|---|---|---|---|---|---|\n",
    "| query2query_graph.txt | 0.640011 | 0.779279 | 0.950524 | 0.981373 | 1.0 |\n",
    "| trn_X_Y  |   0.379675 | 0.603778 | 0.910738 | 0.966417 |  1.0 |\n",
    "| tst_X_Y  |   0.480797 | 0.681644 | 0.927946 | 0.97282 |  1.0 |"
   ]
  },
  {
   "cell_type": "markdown",
   "id": "f4281ca3",
   "metadata": {},
   "source": [
    "The distribution of co-queries is displayed below."
   ]
  },
  {
   "cell_type": "code",
   "execution_count": 44,
   "id": "02a0dd84",
   "metadata": {},
   "outputs": [
    {
     "data": {
      "image/png": "[encoded data removed]",
      "text/plain": [
       "<PIL.PngImagePlugin.PngImageFile image mode=RGBA size=1500x700>"
      ]
     },
     "execution_count": 44,
     "metadata": {},
     "output_type": "execute_result"
    }
   ],
   "source": [
    "#| echo: false\n",
    "#| fig-cap : ORCASRelatedQueries-500K label distribution among data-points.\n",
    "\n",
    "Image.open(\"../data/ORCASRelatedQueries-500K/images/X_Y_label_dist.png\")"
   ]
  }
 ],
 "metadata": {
  "kernelspec": {
   "display_name": "Python 3 (ipykernel)",
   "language": "python",
   "name": "python3"
  },
  "language_info": {
   "codemirror_mode": {
    "name": "ipython",
    "version": 3
   },
   "file_extension": ".py",
   "mimetype": "text/x-python",
   "name": "python",
   "nbconvert_exporter": "python",
   "pygments_lexer": "ipython3",
   "version": "3.7.1"
  },
  "toc": {
   "base_numbering": 1,
   "nav_menu": {},
   "number_sections": true,
   "sideBar": true,
   "skip_h1_title": false,
   "title_cell": "Table of Contents",
   "title_sidebar": "Contents",
   "toc_cell": false,
   "toc_position": {},
   "toc_section_display": true,
   "toc_window_display": false
  }
 },
 "nbformat": 4,
 "nbformat_minor": 5
}
