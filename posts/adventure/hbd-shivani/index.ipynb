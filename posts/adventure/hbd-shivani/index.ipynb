{
 "cells": [
  {
   "cell_type": "markdown",
   "id": "add5338f-0eac-4438-9b94-be26b6606e08",
   "metadata": {},
   "source": [
    "---\n",
    "title: \"Happy Birthday Shivani\"\n",
    "author: \"Suchith Prabhu\"\n",
    "date: \"2023-04-08\"\n",
    "description: Happy birthday to one of the most amazing people I know! Wishing you a day filled with lots of love, laughter, and joy.\n",
    "jupyter: python3\n",
    "image: \"thumbnail.jpg\"\n",
    "sidebar: false\n",
    "\n",
    "---"
   ]
  },
  {
   "cell_type": "markdown",
   "id": "9acc62c8-ed87-4b5a-a762-d20be1af3a65",
   "metadata": {},
   "source": [
    "{{< video https://youtu.be/Is3-U1e4b5s >}}"
   ]
  },
  {
   "cell_type": "markdown",
   "id": "9ae6ee2a-4318-4502-93e4-67abac65fba4",
   "metadata": {},
   "source": [
    "Hey sis! A very happy birthday to you! It's hard to believe that it's been so long since the first day we met, with you coming to Manik's with Anshul and your broken shoes. Back then, I never thought that our friendship would last this long. But I guess it's the craziness we share that keeps us together. From badminton, gym, swimming, cycling, and all the other crazy adventures we've been on, you've been by my side and made Delhi feel like home to me.\n",
    "\n",
    "I just wanted to take this opportunity to thank you for being the badass, smart, and crazy bitch that you are. Your presence in my life has been one of the biggest blessings, and I cherish every moment we spend together.\n",
    "\n",
    "On this special day, I hope you achieve everything you've ever dreamed of. Never stop chasing your craziest dreams, because you have the talent, passion, and drive to make them a reality. You have the power to change the world, and I can't wait to see all the amazing things you'll accomplish.\n",
    "\n",
    "Thank you for being an incredible sister, friend, and all-around amazing human being. Here's to another year of laughs, adventures, and making unforgettable memories together! Enjoy your special day to the fullest and have a blast! Love you lots!"
   ]
  },
  {
   "cell_type": "markdown",
   "id": "443592fe-d623-40ef-8210-f2be5831af7e",
   "metadata": {},
   "source": [
    "Enough with the love already; I can't see you feeling joyous and happy. So here's a [link](https://suchith720.github.io/posts/research/bewakoof-detector/) that will annoy the hell out of you."
   ]
  }
 ],
 "metadata": {
  "kernelspec": {
   "display_name": "Python 3 (ipykernel)",
   "language": "python",
   "name": "python3"
  },
  "language_info": {
   "codemirror_mode": {
    "name": "ipython",
    "version": 3
   },
   "file_extension": ".py",
   "mimetype": "text/x-python",
   "name": "python",
   "nbconvert_exporter": "python",
   "pygments_lexer": "ipython3",
   "version": "3.7.11"
  }
 },
 "nbformat": 4,
 "nbformat_minor": 5
}
